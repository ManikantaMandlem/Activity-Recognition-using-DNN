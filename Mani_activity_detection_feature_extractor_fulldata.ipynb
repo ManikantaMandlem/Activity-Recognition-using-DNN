{
  "nbformat": 4,
  "nbformat_minor": 0,
  "metadata": {
    "colab": {
      "name": "Mani_activity_detection_feature_extractor_fulldata.ipynb",
      "provenance": [],
      "mount_file_id": "13EuQlXAQnhLF6W49WiYPA53sVqcMNfmY",
      "authorship_tag": "ABX9TyPkkefqxeTST7iRVYf/APsQ",
      "include_colab_link": true
    },
    "kernelspec": {
      "name": "python3",
      "display_name": "Python 3"
    },
    "language_info": {
      "name": "python"
    }
  },
  "cells": [
    {
      "cell_type": "markdown",
      "metadata": {
        "id": "view-in-github",
        "colab_type": "text"
      },
      "source": [
        "<a href=\"https://colab.research.google.com/github/ManikantaMandlem/Activity-Recognition-using-DNN/blob/main/Mani_activity_detection_feature_extractor_fulldata.ipynb\" target=\"_parent\"><img src=\"https://colab.research.google.com/assets/colab-badge.svg\" alt=\"Open In Colab\"/></a>"
      ]
    },
    {
      "cell_type": "code",
      "execution_count": null,
      "metadata": {
        "id": "URRIdUJdHiM0"
      },
      "outputs": [],
      "source": [
        "import matplotlib.pyplot as plt\n",
        "import numpy as np\n",
        "from keras.models import Model\n",
        "from keras import layers, losses, Sequential\n",
        "from sklearn.model_selection import train_test_split\n",
        "from sklearn.metrics import precision_score, recall_score, f1_score, confusion_matrix\n",
        "import pandas as pd\n",
        "import tensorflow as tf\n",
        "pd.set_option(\"display.max_rows\", None, \"display.max_columns\", None)\n",
        "#import tensorflow as tf"
      ]
    },
    {
      "cell_type": "code",
      "source": [
        "with open('/content/drive/MyDrive/mHealth/project2/ascending_stairs_full.csv', 'r', encoding='utf-8-sig') as f: \n",
        "    asc_data = np.genfromtxt(f,delimiter = ',')\n",
        "with open('/content/drive/MyDrive/mHealth/project2/dancing_full.csv', 'r', encoding='utf-8-sig') as f: \n",
        "    dance_data = np.genfromtxt(f,delimiter = ',')\n",
        "with open('/content/drive/MyDrive/mHealth/project2/descending_stairs_full.csv', 'r', encoding='utf-8-sig') as f: \n",
        "    des_data = np.genfromtxt(f,delimiter = ',')\n",
        "with open('/content/drive/MyDrive/mHealth/project2/jumping_full.csv', 'r', encoding='utf-8-sig') as f: \n",
        "    jump_data = np.genfromtxt(f,delimiter = ',')\n",
        "with open('/content/drive/MyDrive/mHealth/project2/sitting_full.csv', 'r', encoding='utf-8-sig') as f: \n",
        "    sit_data = np.genfromtxt(f,delimiter = ',')\n",
        "with open('/content/drive/MyDrive/mHealth/project2/standing_full.csv', 'r', encoding='utf-8-sig') as f: \n",
        "    stand_data = np.genfromtxt(f,delimiter = ',')\n",
        "with open('/content/drive/MyDrive/mHealth/project2/walking_full.csv', 'r', encoding='utf-8-sig') as f: \n",
        "    walk_data = np.genfromtxt(f,delimiter = ',')\n",
        "\n",
        "\n",
        "# with open('/content/drive/MyDrive/mHealth/project2/eating.csv', 'r', encoding='utf-8-sig') as f: \n",
        "#     eat_data = np.genfromtxt(f,delimiter = ',')\n",
        "# with open('/content/drive/MyDrive/mHealth/project2/pushups on floor.csv', 'r', encoding='utf-8-sig') as f: \n",
        "#     pushf_data = np.genfromtxt(f,delimiter = ',')\n",
        "# with open('/content/drive/MyDrive/mHealth/project2/pushups against wall.csv', 'r', encoding='utf-8-sig') as f: \n",
        "#     pushg_data = np.genfromtxt(f,delimiter = ',')\n",
        "# with open('/content/drive/MyDrive/mHealth/project2/working on laptop.csv', 'r', encoding='utf-8-sig') as f: \n",
        "#     laptop_data = np.genfromtxt(f,delimiter = ',')\n",
        "# with open('/content/drive/MyDrive/mHealth/project2/running.csv', 'r', encoding='utf-8-sig') as f: \n",
        "#     run_data = np.genfromtxt(f,delimiter = ',')\n"
      ],
      "metadata": {
        "id": "uFeT3e0iINGi"
      },
      "execution_count": null,
      "outputs": []
    },
    {
      "cell_type": "code",
      "source": [
        "print(des_data[3])\n",
        "sum = np.sum(des_data[1:])\n",
        "print(sum)"
      ],
      "metadata": {
        "colab": {
          "base_uri": "https://localhost:8080/"
        },
        "id": "ELM7j9x27z8H",
        "outputId": "bb14771b-496c-4f51-8a09-cf06c2101e65"
      },
      "execution_count": null,
      "outputs": [
        {
          "output_type": "stream",
          "name": "stdout",
          "text": [
            "[-1.45  0.65  0.57 92.77 75.74  2.2 ]\n",
            "-895616.3200000008\n"
          ]
        }
      ]
    },
    {
      "cell_type": "code",
      "source": [
        "def normalize_data(data):\n",
        "    minimum = np.min(data,axis = 0)\n",
        "    maximum = np.max(data,axis = 0)\n",
        "    norm_data = (data - minimum) / (maximum - minimum)\n",
        "    return norm_data"
      ],
      "metadata": {
        "id": "Lm59FwhBIWu6"
      },
      "execution_count": null,
      "outputs": []
    },
    {
      "cell_type": "code",
      "source": [
        "asc_data = normalize_data(asc_data[1:])\n",
        "dance_data = normalize_data(dance_data[1:])\n",
        "des_data = normalize_data(des_data[1:])\n",
        "jump_data = normalize_data(jump_data[1:])\n",
        "sit_data = normalize_data(sit_data[1:])\n",
        "stand_data = normalize_data(stand_data[1:])\n",
        "walk_data = normalize_data(walk_data[1:])\n",
        "\n",
        "\n",
        "# eat_data = normalize_data(eat_data)\n",
        "# pushf_data = normalize_data(pushf_data)\n",
        "# pushg_data = normalize_data(pushg_data)\n",
        "# laptop_data = normalize_data(laptop_data)\n",
        "# run_data = normalize_data(run_data)\n",
        "\n",
        "\n",
        "full_data = np.concatenate([asc_data,dance_data,des_data,jump_data,sit_data,stand_data,walk_data],axis = 0)\n",
        "full_data.shape"
      ],
      "metadata": {
        "colab": {
          "base_uri": "https://localhost:8080/"
        },
        "id": "NziBfktKQPqN",
        "outputId": "c6d2f208-c396-421e-c1db-f3d70ca87ba0"
      },
      "execution_count": null,
      "outputs": [
        {
          "output_type": "execute_result",
          "data": {
            "text/plain": [
              "(2222531, 6)"
            ]
          },
          "metadata": {},
          "execution_count": 5
        }
      ]
    },
    {
      "cell_type": "code",
      "source": [
        "def features_calc(sensor_segment):\n",
        "    \"\"\"\n",
        "    Here, the sensor segment is one axis of a sensor.\n",
        "    \"\"\"\n",
        "    features = np.zeros(9) # we extract nine features\n",
        "    \n",
        "    # the first feature is the amplitude\n",
        "    features[0] = np.max(sensor_segment) - np.mean(sensor_segment)\n",
        "    \n",
        "    # the second feature is the median\n",
        "    features[1] = np.median(sensor_segment)\n",
        "    \n",
        "    # the third feature is the mean\n",
        "    features[2] = np.mean(sensor_segment)\n",
        "    \n",
        "    # the fourth feature is the max value\n",
        "    features[3] = np.max(sensor_segment)\n",
        "    \n",
        "    # the fifth feature is the min value\n",
        "    features[4] = np.min(sensor_segment)\n",
        "    \n",
        "    # the sixth feature is the peak to peak value\n",
        "    features[5] = features[3] - features[4]\n",
        "    \n",
        "    # the seventh feature is the standard deviation\n",
        "    features[6] = np.std(sensor_segment)\n",
        "    \n",
        "    # the eighth feature is the RMS value\n",
        "    features[7] = np.sqrt(np.mean(sensor_segment**2))\n",
        "    \n",
        "    # the ninth feature is the stand to end value\n",
        "    features[8] = sensor_segment[0] - sensor_segment[1]\n",
        "    #features[0] = sensor_segment[0]\n",
        "    \n",
        "    return features"
      ],
      "metadata": {
        "id": "PIkz45KIIeFP"
      },
      "execution_count": null,
      "outputs": []
    },
    {
      "cell_type": "code",
      "source": [
        "def get_features(data):\n",
        "    final_data = []\n",
        "    for i in range(data.shape[0]):\n",
        "        example = []\n",
        "        for j in range(data.shape[2]):\n",
        "            segment = data[i,:,j]\n",
        "            features = features_calc(segment)\n",
        "            example.extend(features)\n",
        "        final_data.append(example)\n",
        "    return np.array(final_data)"
      ],
      "metadata": {
        "id": "WHLoR0WKOlGL"
      },
      "execution_count": null,
      "outputs": []
    },
    {
      "cell_type": "code",
      "source": [
        "def get_segments(data):\n",
        "    #here data is expected to be of 14280 samples (or multiples of 238) as I am segmenting 2 seconds of sensor data for one example\n",
        "    segments = np.split(data,np.arange(0,data.shape[0],119*2)[1:])\n",
        "    return np.array(segments[:-1])\n"
      ],
      "metadata": {
        "id": "Uy3H-GKRL73p"
      },
      "execution_count": null,
      "outputs": []
    },
    {
      "cell_type": "code",
      "source": [
        "asc_data_segments = get_segments(asc_data)\n",
        "des_data_segments = get_segments(des_data)\n",
        "dance_data_segments = get_segments(dance_data)\n",
        "jump_data_segments = get_segments(jump_data)\n",
        "sit_data_segments = get_segments(sit_data)\n",
        "stand_data_segments = get_segments(stand_data)\n",
        "walk_data_segments = get_segments(walk_data)\n",
        "\n",
        "# eat_data_segments = get_segments(eat_data)\n",
        "# pushf_data_segments = get_segments(pushf_data)\n",
        "# pushg_data_segments = get_segments(pushg_data)\n",
        "# laptop_data_segments = get_segments(laptop_data)\n",
        "# run_data_segments = get_segments(run_data)\n",
        "\n",
        "print(jump_data_segments.shape)"
      ],
      "metadata": {
        "colab": {
          "base_uri": "https://localhost:8080/"
        },
        "id": "zZsY0dUyMxKB",
        "outputId": "631c439a-2973-435c-c7f6-c4e285db4426"
      },
      "execution_count": null,
      "outputs": [
        {
          "output_type": "stream",
          "name": "stdout",
          "text": [
            "(1335, 238, 6)\n"
          ]
        }
      ]
    },
    {
      "cell_type": "code",
      "source": [
        "asc_data_features = get_features(asc_data_segments)\n",
        "des_data_features = get_features(des_data_segments)\n",
        "dance_data_features = get_features(dance_data_segments)\n",
        "jump_data_features = get_features(jump_data_segments)\n",
        "sit_data_features = get_features(sit_data_segments)\n",
        "stand_data_features = get_features(stand_data_segments)\n",
        "walk_data_features = get_features(walk_data_segments)\n",
        "\n",
        "# eat_data_features = get_features(eat_data_segments)\n",
        "# pushf_data_features = get_features(pushf_data_segments)\n",
        "# pushg_data_features = get_features(pushg_data_segments)\n",
        "# laptop_data_features = get_features(laptop_data_segments)\n",
        "# run_data_features = get_features(run_data_segments)\n",
        "\n",
        "print(asc_data_features.shape)"
      ],
      "metadata": {
        "colab": {
          "base_uri": "https://localhost:8080/"
        },
        "id": "g93FehDyRgVs",
        "outputId": "eb5922b8-cdd8-4171-cc51-2825892eee6b"
      },
      "execution_count": null,
      "outputs": [
        {
          "output_type": "stream",
          "name": "stdout",
          "text": [
            "(1332, 54)\n"
          ]
        }
      ]
    },
    {
      "cell_type": "code",
      "source": [
        "#preparing train, validation and test data and labels\n",
        "activities = ['asc_data','des_data','dance_data','jump_data','sit_data','stand_data','walk_data']\n",
        "activity_length = [len(asc_data_features),len(des_data_features),len(dance_data_features),len(jump_data_features),len(sit_data_features),len(stand_data_features),len(walk_data_features),]\n",
        "activity_id = np.arange(len(activities))\n",
        "labels = []\n",
        "for i,id in enumerate(activity_id):\n",
        "    labels.extend(np.full(activity_length[i],id))\n",
        "labels = np.array(labels)\n",
        "full_features = np.concatenate([asc_data_features,des_data_features,dance_data_features,jump_data_features,sit_data_features,stand_data_features,walk_data_features,],axis = 0)\n",
        "x_train,x_test,y_train,y_test = train_test_split(full_features,labels,test_size = 0.2,random_state = 2, shuffle = True)\n",
        "x_train,x_valid,y_train,y_valid = train_test_split(x_train,y_train,test_size = 0.2,random_state = 2, shuffle = True)\n",
        "print(x_train.shape)\n",
        "print(x_valid.shape)\n",
        "print(x_test.shape)\n",
        "print(y_train.shape)\n",
        "print(y_valid.shape)\n",
        "print(y_test.shape)\n",
        "\n",
        "sum = np.sum(full_features)\n",
        "print(sum)"
      ],
      "metadata": {
        "colab": {
          "base_uri": "https://localhost:8080/"
        },
        "id": "x3LinWsJXTG4",
        "outputId": "d82fe508-8c73-4e51-b91c-8e2a3bfb96b9"
      },
      "execution_count": null,
      "outputs": [
        {
          "output_type": "stream",
          "name": "stdout",
          "text": [
            "(5974, 54)\n",
            "(1494, 54)\n",
            "(1867, 54)\n",
            "(5974,)\n",
            "(1494,)\n",
            "(1867,)\n",
            "152345.5927045464\n"
          ]
        }
      ]
    },
    {
      "cell_type": "code",
      "source": [
        "class activity_detector(Model):\n",
        "  def __init__(self):\n",
        "    super(activity_detector, self).__init__()\n",
        "    self.forward_pass = Sequential([\n",
        "      layers.Dense(32, activation=\"relu\"),\n",
        "      layers.Dense(32, activation=\"relu\"),\n",
        "      layers.Dense(32, activation=\"relu\"),\n",
        "      layers.Dense(7, activation=\"softmax\")])\n",
        "    \n",
        "  def call(self, x):\n",
        "    fp = self.forward_pass(x)\n",
        "    return fp\n"
      ],
      "metadata": {
        "id": "OjMoSgZ0TSRT"
      },
      "execution_count": null,
      "outputs": []
    },
    {
      "cell_type": "code",
      "source": [
        "model = activity_detector()\n",
        "model.compile(optimizer='adam', loss='sparse_categorical_crossentropy',metrics='accuracy')\n",
        "history = model.fit(x_train, y_train,epochs=50,batch_size=64,validation_data=(x_valid, y_valid),shuffle=True)"
      ],
      "metadata": {
        "colab": {
          "base_uri": "https://localhost:8080/"
        },
        "id": "JUP7K2inVEba",
        "outputId": "709b5e48-f6c8-465e-dac9-5fc4bb13db41"
      },
      "execution_count": null,
      "outputs": [
        {
          "output_type": "stream",
          "name": "stdout",
          "text": [
            "Epoch 1/50\n",
            "94/94 [==============================] - 1s 5ms/step - loss: 1.7117 - accuracy: 0.3862 - val_loss: 1.3421 - val_accuracy: 0.5361\n",
            "Epoch 2/50\n",
            "94/94 [==============================] - 0s 3ms/step - loss: 1.1045 - accuracy: 0.5879 - val_loss: 0.9940 - val_accuracy: 0.6044\n",
            "Epoch 3/50\n",
            "94/94 [==============================] - 0s 3ms/step - loss: 0.8786 - accuracy: 0.7128 - val_loss: 0.8127 - val_accuracy: 0.7209\n",
            "Epoch 4/50\n",
            "94/94 [==============================] - 0s 3ms/step - loss: 0.6740 - accuracy: 0.8000 - val_loss: 0.6134 - val_accuracy: 0.8280\n",
            "Epoch 5/50\n",
            "94/94 [==============================] - 0s 3ms/step - loss: 0.4792 - accuracy: 0.8569 - val_loss: 0.4388 - val_accuracy: 0.8742\n",
            "Epoch 6/50\n",
            "94/94 [==============================] - 0s 3ms/step - loss: 0.3654 - accuracy: 0.8905 - val_loss: 0.3895 - val_accuracy: 0.8815\n",
            "Epoch 7/50\n",
            "94/94 [==============================] - 0s 3ms/step - loss: 0.3105 - accuracy: 0.9048 - val_loss: 0.3318 - val_accuracy: 0.9177\n",
            "Epoch 8/50\n",
            "94/94 [==============================] - 0s 3ms/step - loss: 0.2586 - accuracy: 0.9275 - val_loss: 0.2820 - val_accuracy: 0.9264\n",
            "Epoch 9/50\n",
            "94/94 [==============================] - 0s 3ms/step - loss: 0.2220 - accuracy: 0.9386 - val_loss: 0.2395 - val_accuracy: 0.9337\n",
            "Epoch 10/50\n",
            "94/94 [==============================] - 0s 3ms/step - loss: 0.1912 - accuracy: 0.9471 - val_loss: 0.2019 - val_accuracy: 0.9531\n",
            "Epoch 11/50\n",
            "94/94 [==============================] - 0s 3ms/step - loss: 0.1569 - accuracy: 0.9615 - val_loss: 0.1766 - val_accuracy: 0.9652\n",
            "Epoch 12/50\n",
            "94/94 [==============================] - 0s 3ms/step - loss: 0.1351 - accuracy: 0.9675 - val_loss: 0.1579 - val_accuracy: 0.9699\n",
            "Epoch 13/50\n",
            "94/94 [==============================] - 0s 3ms/step - loss: 0.1166 - accuracy: 0.9725 - val_loss: 0.1545 - val_accuracy: 0.9612\n",
            "Epoch 14/50\n",
            "94/94 [==============================] - 0s 3ms/step - loss: 0.1024 - accuracy: 0.9761 - val_loss: 0.1474 - val_accuracy: 0.9639\n",
            "Epoch 15/50\n",
            "94/94 [==============================] - 0s 3ms/step - loss: 0.0911 - accuracy: 0.9794 - val_loss: 0.1175 - val_accuracy: 0.9739\n",
            "Epoch 16/50\n",
            "94/94 [==============================] - 0s 3ms/step - loss: 0.0844 - accuracy: 0.9801 - val_loss: 0.1077 - val_accuracy: 0.9793\n",
            "Epoch 17/50\n",
            "94/94 [==============================] - 0s 3ms/step - loss: 0.0718 - accuracy: 0.9848 - val_loss: 0.1105 - val_accuracy: 0.9766\n",
            "Epoch 18/50\n",
            "94/94 [==============================] - 0s 3ms/step - loss: 0.0703 - accuracy: 0.9834 - val_loss: 0.1088 - val_accuracy: 0.9786\n",
            "Epoch 19/50\n",
            "94/94 [==============================] - 0s 3ms/step - loss: 0.0630 - accuracy: 0.9861 - val_loss: 0.1003 - val_accuracy: 0.9793\n",
            "Epoch 20/50\n",
            "94/94 [==============================] - 0s 3ms/step - loss: 0.0572 - accuracy: 0.9879 - val_loss: 0.0851 - val_accuracy: 0.9819\n",
            "Epoch 21/50\n",
            "94/94 [==============================] - 0s 3ms/step - loss: 0.0546 - accuracy: 0.9886 - val_loss: 0.0919 - val_accuracy: 0.9813\n",
            "Epoch 22/50\n",
            "94/94 [==============================] - 0s 3ms/step - loss: 0.0470 - accuracy: 0.9906 - val_loss: 0.0742 - val_accuracy: 0.9833\n",
            "Epoch 23/50\n",
            "94/94 [==============================] - 0s 3ms/step - loss: 0.0434 - accuracy: 0.9905 - val_loss: 0.0703 - val_accuracy: 0.9846\n",
            "Epoch 24/50\n",
            "94/94 [==============================] - 0s 3ms/step - loss: 0.0404 - accuracy: 0.9906 - val_loss: 0.0682 - val_accuracy: 0.9853\n",
            "Epoch 25/50\n",
            "94/94 [==============================] - 0s 3ms/step - loss: 0.0381 - accuracy: 0.9920 - val_loss: 0.0719 - val_accuracy: 0.9839\n",
            "Epoch 26/50\n",
            "94/94 [==============================] - 0s 3ms/step - loss: 0.0346 - accuracy: 0.9920 - val_loss: 0.0648 - val_accuracy: 0.9839\n",
            "Epoch 27/50\n",
            "94/94 [==============================] - 0s 3ms/step - loss: 0.0318 - accuracy: 0.9933 - val_loss: 0.0612 - val_accuracy: 0.9866\n",
            "Epoch 28/50\n",
            "94/94 [==============================] - 0s 3ms/step - loss: 0.0346 - accuracy: 0.9915 - val_loss: 0.0598 - val_accuracy: 0.9873\n",
            "Epoch 29/50\n",
            "94/94 [==============================] - 0s 3ms/step - loss: 0.0290 - accuracy: 0.9930 - val_loss: 0.0522 - val_accuracy: 0.9880\n",
            "Epoch 30/50\n",
            "94/94 [==============================] - 0s 3ms/step - loss: 0.0260 - accuracy: 0.9935 - val_loss: 0.0474 - val_accuracy: 0.9900\n",
            "Epoch 31/50\n",
            "94/94 [==============================] - 0s 3ms/step - loss: 0.0253 - accuracy: 0.9941 - val_loss: 0.0551 - val_accuracy: 0.9859\n",
            "Epoch 32/50\n",
            "94/94 [==============================] - 0s 3ms/step - loss: 0.0244 - accuracy: 0.9945 - val_loss: 0.0430 - val_accuracy: 0.9880\n",
            "Epoch 33/50\n",
            "94/94 [==============================] - 0s 3ms/step - loss: 0.0218 - accuracy: 0.9950 - val_loss: 0.0407 - val_accuracy: 0.9900\n",
            "Epoch 34/50\n",
            "94/94 [==============================] - 0s 3ms/step - loss: 0.0206 - accuracy: 0.9945 - val_loss: 0.0392 - val_accuracy: 0.9913\n",
            "Epoch 35/50\n",
            "94/94 [==============================] - 0s 2ms/step - loss: 0.0191 - accuracy: 0.9955 - val_loss: 0.0353 - val_accuracy: 0.9933\n",
            "Epoch 36/50\n",
            "94/94 [==============================] - 0s 3ms/step - loss: 0.0172 - accuracy: 0.9960 - val_loss: 0.0382 - val_accuracy: 0.9900\n",
            "Epoch 37/50\n",
            "94/94 [==============================] - 0s 3ms/step - loss: 0.0168 - accuracy: 0.9958 - val_loss: 0.0424 - val_accuracy: 0.9900\n",
            "Epoch 38/50\n",
            "94/94 [==============================] - 0s 3ms/step - loss: 0.0162 - accuracy: 0.9963 - val_loss: 0.0333 - val_accuracy: 0.9933\n",
            "Epoch 39/50\n",
            "94/94 [==============================] - 0s 3ms/step - loss: 0.0142 - accuracy: 0.9961 - val_loss: 0.0409 - val_accuracy: 0.9893\n",
            "Epoch 40/50\n",
            "94/94 [==============================] - 0s 3ms/step - loss: 0.0144 - accuracy: 0.9960 - val_loss: 0.0482 - val_accuracy: 0.9866\n",
            "Epoch 41/50\n",
            "94/94 [==============================] - 0s 3ms/step - loss: 0.0129 - accuracy: 0.9968 - val_loss: 0.0370 - val_accuracy: 0.9920\n",
            "Epoch 42/50\n",
            "94/94 [==============================] - 0s 3ms/step - loss: 0.0118 - accuracy: 0.9968 - val_loss: 0.0329 - val_accuracy: 0.9926\n",
            "Epoch 43/50\n",
            "94/94 [==============================] - 0s 3ms/step - loss: 0.0129 - accuracy: 0.9963 - val_loss: 0.0329 - val_accuracy: 0.9906\n",
            "Epoch 44/50\n",
            "94/94 [==============================] - 0s 3ms/step - loss: 0.0101 - accuracy: 0.9973 - val_loss: 0.0304 - val_accuracy: 0.9920\n",
            "Epoch 45/50\n",
            "94/94 [==============================] - 0s 3ms/step - loss: 0.0116 - accuracy: 0.9968 - val_loss: 0.0344 - val_accuracy: 0.9913\n",
            "Epoch 46/50\n",
            "94/94 [==============================] - 0s 3ms/step - loss: 0.0098 - accuracy: 0.9972 - val_loss: 0.0270 - val_accuracy: 0.9953\n",
            "Epoch 47/50\n",
            "94/94 [==============================] - 0s 3ms/step - loss: 0.0101 - accuracy: 0.9970 - val_loss: 0.0310 - val_accuracy: 0.9926\n",
            "Epoch 48/50\n",
            "94/94 [==============================] - 0s 3ms/step - loss: 0.0071 - accuracy: 0.9987 - val_loss: 0.0543 - val_accuracy: 0.9819\n",
            "Epoch 49/50\n",
            "94/94 [==============================] - 0s 3ms/step - loss: 0.0113 - accuracy: 0.9975 - val_loss: 0.0286 - val_accuracy: 0.9967\n",
            "Epoch 50/50\n",
            "94/94 [==============================] - 0s 3ms/step - loss: 0.0069 - accuracy: 0.9985 - val_loss: 0.0314 - val_accuracy: 0.9946\n"
          ]
        }
      ]
    },
    {
      "cell_type": "markdown",
      "source": [
        "Plotting loss for each epoch"
      ],
      "metadata": {
        "id": "CnqrkJuWc5rq"
      }
    },
    {
      "cell_type": "code",
      "source": [
        "plt.rcParams[\"figure.figsize\"] = (15,10)\n",
        "\n",
        "# graph the loss, the model above is configure to use \"mean squared error\" as the loss function\n",
        "train_loss = history.history['loss']\n",
        "val_loss = history.history['val_loss']\n",
        "epochs = range(1, len(train_loss) + 1)\n",
        "plt.plot(epochs, train_loss, 'g', label='Training loss')\n",
        "plt.plot(epochs, val_loss, 'b', label='Validation loss')\n",
        "plt.title('Training and validation loss')\n",
        "plt.xlabel('Epochs')\n",
        "plt.ylabel('Loss')\n",
        "plt.legend()\n",
        "plt.show()"
      ],
      "metadata": {
        "colab": {
          "base_uri": "https://localhost:8080/",
          "height": 621
        },
        "id": "22LVBY9oeVH9",
        "outputId": "2b2533e5-2cf1-451f-f9b6-7070ed904d79"
      },
      "execution_count": null,
      "outputs": [
        {
          "output_type": "display_data",
          "data": {
            "image/png": "[encoded data removed]",
            "text/plain": [
              "<Figure size 1080x720 with 1 Axes>"
            ]
          },
          "metadata": {
            "needs_background": "light"
          }
        }
      ]
    },
    {
      "cell_type": "markdown",
      "source": [
        "Plotting accuracy for each epoch"
      ],
      "metadata": {
        "id": "_VdZ2RzVdqod"
      }
    },
    {
      "cell_type": "code",
      "source": [
        "plt.rcParams[\"figure.figsize\"] = (15,10)\n",
        "\n",
        "# graph the loss, the model above is configure to use \"mean squared error\" as the loss function\n",
        "train_acc = history.history['accuracy']\n",
        "val_acc = history.history['val_accuracy']\n",
        "epochs = range(1, len(train_loss) + 1)\n",
        "plt.plot(epochs, train_acc, 'g', label='Training Accuracy')\n",
        "plt.plot(epochs, val_acc, 'b', label='Validation Accuracy')\n",
        "plt.title('Training and validation Accuracy')\n",
        "plt.xlabel('Epochs')\n",
        "plt.ylabel('Accuracy')\n",
        "plt.legend()\n",
        "plt.show()"
      ],
      "metadata": {
        "colab": {
          "base_uri": "https://localhost:8080/",
          "height": 621
        },
        "id": "q5S3-IJmdO4j",
        "outputId": "f6d6fa4c-c561-44ef-abcf-1dbbdcaca418"
      },
      "execution_count": null,
      "outputs": [
        {
          "output_type": "display_data",
          "data": {
            "image/png": "[encoded data removed]",
            "text/plain": [
              "<Figure size 1080x720 with 1 Axes>"
            ]
          },
          "metadata": {
            "needs_background": "light"
          }
        }
      ]
    },
    {
      "cell_type": "code",
      "source": [
        "predictions = np.argmax(model.predict(x_test),axis = 1)\n",
        "predictions = predictions.astype(int)\n",
        "accuracy = np.mean(predictions == y_test)\n",
        "precision = precision_score(y_test,predictions,average = 'weighted')\n",
        "recall = recall_score(y_test,predictions,average = 'weighted')\n",
        "f1 = f1_score(y_test,predictions,average = 'weighted')\n",
        "conf_mat = confusion_matrix(y_test,predictions)\n",
        "conf_mat = pd.DataFrame(conf_mat)\n",
        "conf_mat.columns = activities\n",
        "conf_mat.index = activities\n",
        "print('accuracy:', accuracy)\n",
        "print('Precision: ', precision)\n",
        "print('Recall: ', recall)\n",
        "print('f1_score: ', f1)\n",
        "print('Confusion Matrix: \\n', conf_mat)"
      ],
      "metadata": {
        "colab": {
          "base_uri": "https://localhost:8080/"
        },
        "id": "dmQG9CWTd4x6",
        "outputId": "b4ff17b3-f7a8-4b62-cd74-e7aeec44be48"
      },
      "execution_count": null,
      "outputs": [
        {
          "output_type": "stream",
          "name": "stdout",
          "text": [
            "accuracy: 0.9951794322442421\n",
            "Precision:  0.9951985985112749\n",
            "Recall:  0.9951794322442421\n",
            "f1_score:  0.9951780930952123\n",
            "Confusion Matrix: \n",
            "             asc_data  des_data  dance_data  jump_data  sit_data  stand_data  \\\n",
            "asc_data         281         0           0          0         0           0   \n",
            "des_data           0       276           0          1         0           0   \n",
            "dance_data         0         0         271          0         0           0   \n",
            "jump_data          0         1           0        253         0           0   \n",
            "sit_data           1         0           0          0       236           0   \n",
            "stand_data         0         0           3          0         0         263   \n",
            "walk_data          0         1           0          0         1           0   \n",
            "\n",
            "            walk_data  \n",
            "asc_data            0  \n",
            "des_data            0  \n",
            "dance_data          0  \n",
            "jump_data           0  \n",
            "sit_data            1  \n",
            "stand_data          0  \n",
            "walk_data         278  \n"
          ]
        }
      ]
    },
    {
      "cell_type": "code",
      "source": [
        "#code to convert deployable model - code is referred from IMU TinyML mheath note book used in class discussions\n",
        "converter = tf.lite.TFLiteConverter.from_keras_model(model)\n",
        "tflite_model = converter.convert()\n",
        "\n",
        "# Save the model to disk\n",
        "open(\"gesture_model.tflite\", \"wb\").write(tflite_model)\n",
        "\n",
        "\n",
        "# Convert the model to the TensorFlow Lite format with quantization\n",
        "converter = tf.lite.TFLiteConverter.from_keras_model(model)\n",
        "converter.optimizations = [tf.lite.Optimize.DEFAULT]\n",
        "# Define a generator function that provides our test data's x values\n",
        "# as a representative dataset, and tell the converter to use it\n",
        "def representative_dataset_generator():\n",
        "    for value in x_test:\n",
        "        yield [np.array(value, dtype=np.float32, ndmin=2)]\n",
        "converter.representative_dataset = representative_dataset_generator\n",
        "# Convert the model\n",
        "quant_model = converter.convert()\n",
        "open(\"quantized.tflite\", \"wb\").write(quant_model)\n",
        "\n",
        "\n",
        "import os\n",
        "basic_model_size = os.path.getsize(\"gesture_model.tflite\")\n",
        "print(\"Model is %d bytes\" % basic_model_size)\n",
        "quantized_model_size = os.path.getsize(\"quantized.tflite\")\n",
        "print(\"Model is %d bytes\" % quantized_model_size)"
      ],
      "metadata": {
        "colab": {
          "base_uri": "https://localhost:8080/"
        },
        "id": "8LMG9o9qfyYA",
        "outputId": "c70a6dd2-4312-4496-9055-1444058e9297"
      },
      "execution_count": null,
      "outputs": [
        {
          "output_type": "stream",
          "name": "stdout",
          "text": [
            "INFO:tensorflow:Assets written to: /tmp/tmp91jmhziv/assets\n"
          ]
        },
        {
          "output_type": "stream",
          "name": "stderr",
          "text": [
            "WARNING:absl:Buffer deduplication procedure will be skipped when flatbuffer library is not properly loaded\n"
          ]
        },
        {
          "output_type": "stream",
          "name": "stdout",
          "text": [
            "INFO:tensorflow:Assets written to: /tmp/tmpvbhrksu2/assets\n"
          ]
        },
        {
          "output_type": "stream",
          "name": "stderr",
          "text": [
            "INFO:tensorflow:Assets written to: /tmp/tmpvbhrksu2/assets\n",
            "/usr/local/lib/python3.7/dist-packages/tensorflow/lite/python/convert.py:746: UserWarning: Statistics for quantized inputs were expected, but not specified; continuing anyway.\n",
            "  warnings.warn(\"Statistics for quantized inputs were expected, but not \"\n",
            "WARNING:absl:Buffer deduplication procedure will be skipped when flatbuffer library is not properly loaded\n"
          ]
        },
        {
          "output_type": "stream",
          "name": "stdout",
          "text": [
            "Model is 18856 bytes\n",
            "Model is 7656 bytes\n"
          ]
        }
      ]
    },
    {
      "cell_type": "code",
      "source": [
        "!apt-get install xxd"
      ],
      "metadata": {
        "colab": {
          "base_uri": "https://localhost:8080/"
        },
        "id": "0MN_27Dq-Ysc",
        "outputId": "b7f97163-49e2-4ca9-d6b5-6777a38f3c2d"
      },
      "execution_count": null,
      "outputs": [
        {
          "output_type": "stream",
          "name": "stdout",
          "text": [
            "Reading package lists... Done\n",
            "Building dependency tree       \n",
            "Reading state information... Done\n",
            "xxd is already the newest version (2:8.0.1453-1ubuntu1.8).\n",
            "The following package was automatically installed and is no longer required:\n",
            "  libnvidia-common-470\n",
            "Use 'apt autoremove' to remove it.\n",
            "0 upgraded, 0 newly installed, 0 to remove and 39 not upgraded.\n"
          ]
        }
      ]
    },
    {
      "cell_type": "code",
      "source": [
        "!echo \"const unsigned char model[] = {\" >model.h\n",
        "!cat gesture_model.tflite | xxd -i      >> model.h\n",
        "!echo \"};\"                              >> model.h\n",
        "\n",
        "import os\n",
        "model_h_size = os.path.getsize(\"model.h\")\n",
        "print(f\"Header file, model.h, is {model_h_size:,} bytes.\")"
      ],
      "metadata": {
        "colab": {
          "base_uri": "https://localhost:8080/"
        },
        "id": "W4Vc_clV3-0B",
        "outputId": "23cf15dc-131b-4b19-b175-90fa24a2be7f"
      },
      "execution_count": null,
      "outputs": [
        {
          "output_type": "stream",
          "name": "stdout",
          "text": [
            "Header file, model.h, is 116,314 bytes.\n"
          ]
        }
      ]
    },
    {
      "cell_type": "code",
      "source": [
        "!echo \"const unsigned char model[] = {\" >model1.h\n",
        "!cat quantized.tflite | xxd -i      >> model1.h\n",
        "!echo \"};\"                              >> model1.h\n",
        "\n",
        "import os\n",
        "model_h_size = os.path.getsize(\"model1.h\")\n",
        "print(f\"Header file, model1.h, is {model_h_size:,} bytes.\")\n",
        "print(\"\\nOpen the side panel (refresh if needed). Double click model.h to download the file.\")"
      ],
      "metadata": {
        "colab": {
          "base_uri": "https://localhost:8080/"
        },
        "id": "g8Uh68Ip4BAp",
        "outputId": "9da35b6f-2821-4ba3-e4cf-ad1960544539"
      },
      "execution_count": null,
      "outputs": [
        {
          "output_type": "stream",
          "name": "stdout",
          "text": [
            "Header file, model1.h, is 47,246 bytes.\n",
            "\n",
            "Open the side panel (refresh if needed). Double click model.h to download the file.\n"
          ]
        }
      ]
    }
  ]
}