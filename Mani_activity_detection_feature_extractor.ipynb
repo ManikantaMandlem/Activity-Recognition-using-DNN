{
  "nbformat": 4,
  "nbformat_minor": 0,
  "metadata": {
    "colab": {
      "name": "Mani_activity_detection_feature_extractor.ipynb",
      "provenance": []
    },
    "kernelspec": {
      "name": "python3",
      "display_name": "Python 3"
    },
    "language_info": {
      "name": "python"
    }
  },
  "cells": [
    {
      "cell_type": "code",
      "execution_count": null,
      "metadata": {
        "id": "URRIdUJdHiM0"
      },
      "outputs": [],
      "source": [
        "import matplotlib.pyplot as plt\n",
        "import numpy as np\n",
        "from keras.models import Model\n",
        "from keras import layers, losses, Sequential\n",
        "from sklearn.model_selection import train_test_split\n",
        "from sklearn.metrics import precision_score, recall_score, f1_score, confusion_matrix\n",
        "import pandas as pd\n",
        "import tensorflow as tf\n",
        "pd.set_option(\"display.max_rows\", None, \"display.max_columns\", None)\n",
        "#import tensorflow as tf"
      ]
    },
    {
      "cell_type": "code",
      "source": [
        "with open('/content/drive/MyDrive/mHealth/project2/ascending stairs.csv', 'r', encoding='utf-8-sig') as f: \n",
        "    asc_data = np.genfromtxt(f,delimiter = ',')\n",
        "with open('/content/drive/MyDrive/mHealth/project2/dancing.csv', 'r', encoding='utf-8-sig') as f: \n",
        "    dance_data = np.genfromtxt(f,delimiter = ',')\n",
        "with open('/content/drive/MyDrive/mHealth/project2/descending stairs.csv', 'r', encoding='utf-8-sig') as f: \n",
        "    des_data = np.genfromtxt(f,delimiter = ',')\n",
        "with open('/content/drive/MyDrive/mHealth/project2/jumping.csv', 'r', encoding='utf-8-sig') as f: \n",
        "    jump_data = np.genfromtxt(f,delimiter = ',')\n",
        "with open('/content/drive/MyDrive/mHealth/project2/sitting.csv', 'r', encoding='utf-8-sig') as f: \n",
        "    sit_data = np.genfromtxt(f,delimiter = ',')\n",
        "with open('/content/drive/MyDrive/mHealth/project2/standing.csv', 'r', encoding='utf-8-sig') as f: \n",
        "    stand_data = np.genfromtxt(f,delimiter = ',')\n",
        "with open('/content/drive/MyDrive/mHealth/project2/walking.csv', 'r', encoding='utf-8-sig') as f: \n",
        "    walk_data = np.genfromtxt(f,delimiter = ',')\n",
        "\n",
        "\n",
        "with open('/content/drive/MyDrive/mHealth/project2/eating.csv', 'r', encoding='utf-8-sig') as f: \n",
        "    eat_data = np.genfromtxt(f,delimiter = ',')\n",
        "with open('/content/drive/MyDrive/mHealth/project2/pushups on floor.csv', 'r', encoding='utf-8-sig') as f: \n",
        "    pushf_data = np.genfromtxt(f,delimiter = ',')\n",
        "with open('/content/drive/MyDrive/mHealth/project2/pushups against wall.csv', 'r', encoding='utf-8-sig') as f: \n",
        "    pushg_data = np.genfromtxt(f,delimiter = ',')\n",
        "with open('/content/drive/MyDrive/mHealth/project2/working on laptop.csv', 'r', encoding='utf-8-sig') as f: \n",
        "    laptop_data = np.genfromtxt(f,delimiter = ',')\n",
        "with open('/content/drive/MyDrive/mHealth/project2/running.csv', 'r', encoding='utf-8-sig') as f: \n",
        "    run_data = np.genfromtxt(f,delimiter = ',')\n"
      ],
      "metadata": {
        "id": "uFeT3e0iINGi"
      },
      "execution_count": null,
      "outputs": []
    },
    {
      "cell_type": "code",
      "source": [
        "def normalize_data(data):\n",
        "    minimum = np.min(data,axis = 0)\n",
        "    maximum = np.max(data,axis = 0)\n",
        "    norm_data = (data - minimum) / (maximum - minimum)\n",
        "    return norm_data"
      ],
      "metadata": {
        "id": "Lm59FwhBIWu6"
      },
      "execution_count": null,
      "outputs": []
    },
    {
      "cell_type": "code",
      "source": [
        "asc_data = normalize_data(asc_data)\n",
        "dance_data = normalize_data(dance_data)\n",
        "des_data = normalize_data(des_data)\n",
        "jump_data = normalize_data(jump_data)\n",
        "sit_data = normalize_data(sit_data)\n",
        "stand_data = normalize_data(stand_data)\n",
        "walk_data = normalize_data(walk_data)\n",
        "\n",
        "\n",
        "eat_data = normalize_data(eat_data)\n",
        "pushf_data = normalize_data(pushf_data)\n",
        "pushg_data = normalize_data(pushg_data)\n",
        "laptop_data = normalize_data(laptop_data)\n",
        "run_data = normalize_data(run_data)\n",
        "\n",
        "\n",
        "full_data = np.concatenate([asc_data,dance_data,des_data,jump_data,sit_data,stand_data,walk_data,eat_data,pushf_data,pushg_data,laptop_data,run_data],axis = 0)\n",
        "full_data.shape"
      ],
      "metadata": {
        "colab": {
          "base_uri": "https://localhost:8080/"
        },
        "id": "NziBfktKQPqN",
        "outputId": "8303a756-973c-42ed-aa58-cd7557f95fbd"
      },
      "execution_count": null,
      "outputs": [
        {
          "output_type": "execute_result",
          "data": {
            "text/plain": [
              "(14280, 6, 12)"
            ]
          },
          "metadata": {},
          "execution_count": 76
        }
      ]
    },
    {
      "cell_type": "code",
      "source": [
        "def features_calc(sensor_segment):\n",
        "    \"\"\"\n",
        "    Here, the sensor segment is one axis of a sensor.\n",
        "    \"\"\"\n",
        "    features = np.zeros(9) # we extract nine features\n",
        "    \n",
        "    # the first feature is the amplitude\n",
        "    features[0] = np.max(sensor_segment) - np.mean(sensor_segment)\n",
        "    \n",
        "    # the second feature is the median\n",
        "    features[1] = np.median(sensor_segment)\n",
        "    \n",
        "    # the third feature is the mean\n",
        "    features[2] = np.mean(sensor_segment)\n",
        "    \n",
        "    # the fourth feature is the max value\n",
        "    features[3] = np.max(sensor_segment)\n",
        "    \n",
        "    # the fifth feature is the min value\n",
        "    features[4] = np.min(sensor_segment)\n",
        "    \n",
        "    # the sixth feature is the peak to peak value\n",
        "    features[5] = features[3] - features[4]\n",
        "    \n",
        "    # the seventh feature is the standard deviation\n",
        "    features[6] = np.std(sensor_segment)\n",
        "    \n",
        "    # the eighth feature is the RMS value\n",
        "    features[7] = np.sqrt(np.mean(sensor_segment**2))\n",
        "    \n",
        "    # the ninth feature is the stand to end value\n",
        "    features[8] = sensor_segment[0] - sensor_segment[1]\n",
        "    #features[0] = sensor_segment[0]\n",
        "    \n",
        "    return features"
      ],
      "metadata": {
        "id": "PIkz45KIIeFP"
      },
      "execution_count": null,
      "outputs": []
    },
    {
      "cell_type": "code",
      "source": [
        "def get_features(data):\n",
        "    final_data = []\n",
        "    for i in range(data.shape[0]):\n",
        "        example = []\n",
        "        for j in range(data.shape[2]):\n",
        "            segment = data[i,:,j]\n",
        "            features = features_calc(segment)\n",
        "            example.extend(features)\n",
        "        final_data.append(example)\n",
        "    return np.array(final_data)"
      ],
      "metadata": {
        "id": "WHLoR0WKOlGL"
      },
      "execution_count": null,
      "outputs": []
    },
    {
      "cell_type": "code",
      "source": [
        "def get_segments(data):\n",
        "    #here data is expected to be of 14280 samples (or multiples of 238) as I am segmenting 2 seconds of sensor data for one example\n",
        "    segments = np.split(data,np.arange(0,14280,119*2)[1:])\n",
        "    return np.array(segments)\n"
      ],
      "metadata": {
        "id": "Uy3H-GKRL73p"
      },
      "execution_count": null,
      "outputs": []
    },
    {
      "cell_type": "code",
      "source": [
        "asc_data_segments = get_segments(asc_data)\n",
        "des_data_segments = get_segments(des_data)\n",
        "dance_data_segments = get_segments(dance_data)\n",
        "jump_data_segments = get_segments(jump_data)\n",
        "sit_data_segments = get_segments(sit_data)\n",
        "stand_data_segments = get_segments(stand_data)\n",
        "walk_data_segments = get_segments(walk_data)\n",
        "\n",
        "eat_data_segments = get_segments(eat_data)\n",
        "pushf_data_segments = get_segments(pushf_data)\n",
        "pushg_data_segments = get_segments(pushg_data)\n",
        "laptop_data_segments = get_segments(laptop_data)\n",
        "run_data_segments = get_segments(run_data)\n",
        "\n",
        "print(asc_data_segments.shape)"
      ],
      "metadata": {
        "colab": {
          "base_uri": "https://localhost:8080/"
        },
        "id": "zZsY0dUyMxKB",
        "outputId": "2ba32ab0-fe3d-4bb3-9455-0b409071128c"
      },
      "execution_count": null,
      "outputs": [
        {
          "output_type": "stream",
          "name": "stdout",
          "text": [
            "(60, 238, 6)\n"
          ]
        }
      ]
    },
    {
      "cell_type": "code",
      "source": [
        "asc_data_features = get_features(asc_data_segments)\n",
        "des_data_features = get_features(des_data_segments)\n",
        "dance_data_features = get_features(dance_data_segments)\n",
        "jump_data_features = get_features(jump_data_segments)\n",
        "sit_data_features = get_features(sit_data_segments)\n",
        "stand_data_features = get_features(stand_data_segments)\n",
        "walk_data_features = get_features(walk_data_segments)\n",
        "\n",
        "eat_data_features = get_features(eat_data_segments)\n",
        "pushf_data_features = get_features(pushf_data_segments)\n",
        "pushg_data_features = get_features(pushg_data_segments)\n",
        "laptop_data_features = get_features(laptop_data_segments)\n",
        "run_data_features = get_features(run_data_segments)\n",
        "\n",
        "print(asc_data_features.shape)"
      ],
      "metadata": {
        "colab": {
          "base_uri": "https://localhost:8080/"
        },
        "id": "g93FehDyRgVs",
        "outputId": "4e98e0c2-effe-4d19-8e31-1f45315162cb"
      },
      "execution_count": null,
      "outputs": [
        {
          "output_type": "stream",
          "name": "stdout",
          "text": [
            "(60, 54)\n"
          ]
        }
      ]
    },
    {
      "cell_type": "code",
      "source": [
        "#preparing train, validation and test data and labels\n",
        "activities = ['asc_data','des_data','dance_data','jump_data','sit_data','stand_data','walk_data','eat_data','pushf_data','pushg_data','laptop_data','run_data']\n",
        "activity_length = [len(asc_data_features),len(des_data_features),len(dance_data_features),len(jump_data_features),len(sit_data_features),len(stand_data_features),len(walk_data_features),\n",
        "                   len(eat_data_features),len(pushf_data_features),len(pushg_data_features),len(laptop_data_features),len(run_data_features)]\n",
        "activity_id = np.arange(len(activities))\n",
        "labels = []\n",
        "for i,id in enumerate(activity_id):\n",
        "    labels.extend(np.full(activity_length[i],id))\n",
        "labels = np.array(labels)\n",
        "full_features = np.concatenate([asc_data_features,des_data_features,dance_data_features,jump_data_features,sit_data_features,stand_data_features,walk_data_features,\n",
        "                                eat_data_features,pushf_data_features,pushg_data_features,laptop_data_features,run_data_features],axis = 0)\n",
        "x_train,x_test,y_train,y_test = train_test_split(full_features,labels,test_size = 0.2,random_state = 2, shuffle = True)\n",
        "x_train,x_valid,y_train,y_valid = train_test_split(x_train,y_train,test_size = 0.2,random_state = 2, shuffle = True)\n",
        "print(x_train.shape)\n",
        "print(x_valid.shape)\n",
        "print(x_test.shape)\n",
        "print(y_train.shape)\n",
        "print(y_valid.shape)\n",
        "print(y_test.shape)\n",
        "\n"
      ],
      "metadata": {
        "colab": {
          "base_uri": "https://localhost:8080/"
        },
        "id": "x3LinWsJXTG4",
        "outputId": "7315923a-a8f5-44ea-e59a-2e3d36665878"
      },
      "execution_count": null,
      "outputs": [
        {
          "output_type": "stream",
          "name": "stdout",
          "text": [
            "(460, 54)\n",
            "(116, 54)\n",
            "(144, 54)\n",
            "(460,)\n",
            "(116,)\n",
            "(144,)\n"
          ]
        }
      ]
    },
    {
      "cell_type": "code",
      "source": [
        "class activity_detector(Model):\n",
        "  def __init__(self):\n",
        "    super(activity_detector, self).__init__()\n",
        "    self.forward_pass = Sequential([\n",
        "      layers.Dense(32, activation=\"relu\"),\n",
        "      layers.Dense(32, activation=\"relu\"),\n",
        "      layers.Dense(32, activation=\"relu\"),\n",
        "      layers.Dense(12, activation=\"softmax\")])\n",
        "    \n",
        "  def call(self, x):\n",
        "    fp = self.forward_pass(x)\n",
        "    return fp\n"
      ],
      "metadata": {
        "id": "OjMoSgZ0TSRT"
      },
      "execution_count": null,
      "outputs": []
    },
    {
      "cell_type": "code",
      "source": [
        "model = activity_detector()\n",
        "model.compile(optimizer='adam', loss='sparse_categorical_crossentropy',metrics='accuracy')\n",
        "history = model.fit(x_train, y_train,epochs=50,batch_size=2,validation_data=(x_valid, y_valid),shuffle=True)"
      ],
      "metadata": {
        "colab": {
          "base_uri": "https://localhost:8080/"
        },
        "id": "JUP7K2inVEba",
        "outputId": "b4063ee4-2186-436b-a5b5-7916a076c373"
      },
      "execution_count": null,
      "outputs": [
        {
          "output_type": "stream",
          "name": "stdout",
          "text": [
            "Epoch 1/50\n",
            "230/230 [==============================] - 1s 3ms/step - loss: 2.3745 - accuracy: 0.2043 - val_loss: 2.1476 - val_accuracy: 0.1552\n",
            "Epoch 2/50\n",
            "230/230 [==============================] - 1s 2ms/step - loss: 1.8183 - accuracy: 0.3935 - val_loss: 1.6502 - val_accuracy: 0.3793\n",
            "Epoch 3/50\n",
            "230/230 [==============================] - 1s 2ms/step - loss: 1.3788 - accuracy: 0.5717 - val_loss: 1.2651 - val_accuracy: 0.6293\n",
            "Epoch 4/50\n",
            "230/230 [==============================] - 1s 2ms/step - loss: 1.0822 - accuracy: 0.7043 - val_loss: 1.0563 - val_accuracy: 0.6983\n",
            "Epoch 5/50\n",
            "230/230 [==============================] - 1s 2ms/step - loss: 0.8534 - accuracy: 0.7522 - val_loss: 0.8589 - val_accuracy: 0.7241\n",
            "Epoch 6/50\n",
            "230/230 [==============================] - 1s 3ms/step - loss: 0.7330 - accuracy: 0.7891 - val_loss: 0.8046 - val_accuracy: 0.7328\n",
            "Epoch 7/50\n",
            "230/230 [==============================] - 0s 2ms/step - loss: 0.6358 - accuracy: 0.8065 - val_loss: 0.6515 - val_accuracy: 0.8103\n",
            "Epoch 8/50\n",
            "230/230 [==============================] - 1s 2ms/step - loss: 0.5487 - accuracy: 0.8370 - val_loss: 0.6091 - val_accuracy: 0.8103\n",
            "Epoch 9/50\n",
            "230/230 [==============================] - 1s 2ms/step - loss: 0.4966 - accuracy: 0.8435 - val_loss: 0.6926 - val_accuracy: 0.7328\n",
            "Epoch 10/50\n",
            "230/230 [==============================] - 0s 2ms/step - loss: 0.4306 - accuracy: 0.8739 - val_loss: 0.5570 - val_accuracy: 0.8103\n",
            "Epoch 11/50\n",
            "230/230 [==============================] - 0s 2ms/step - loss: 0.3984 - accuracy: 0.8913 - val_loss: 0.4838 - val_accuracy: 0.8448\n",
            "Epoch 12/50\n",
            "230/230 [==============================] - 0s 2ms/step - loss: 0.3701 - accuracy: 0.8870 - val_loss: 0.5458 - val_accuracy: 0.8190\n",
            "Epoch 13/50\n",
            "230/230 [==============================] - 0s 2ms/step - loss: 0.3155 - accuracy: 0.9000 - val_loss: 0.5270 - val_accuracy: 0.8534\n",
            "Epoch 14/50\n",
            "230/230 [==============================] - 0s 2ms/step - loss: 0.2997 - accuracy: 0.9239 - val_loss: 0.3875 - val_accuracy: 0.8966\n",
            "Epoch 15/50\n",
            "230/230 [==============================] - 1s 2ms/step - loss: 0.2799 - accuracy: 0.9130 - val_loss: 0.4286 - val_accuracy: 0.8793\n",
            "Epoch 16/50\n",
            "230/230 [==============================] - 1s 2ms/step - loss: 0.2630 - accuracy: 0.9261 - val_loss: 0.3391 - val_accuracy: 0.9052\n",
            "Epoch 17/50\n",
            "230/230 [==============================] - 0s 2ms/step - loss: 0.2175 - accuracy: 0.9370 - val_loss: 0.4163 - val_accuracy: 0.9138\n",
            "Epoch 18/50\n",
            "230/230 [==============================] - 0s 2ms/step - loss: 0.2065 - accuracy: 0.9478 - val_loss: 0.4377 - val_accuracy: 0.8793\n",
            "Epoch 19/50\n",
            "230/230 [==============================] - 0s 2ms/step - loss: 0.2088 - accuracy: 0.9348 - val_loss: 0.4346 - val_accuracy: 0.8707\n",
            "Epoch 20/50\n",
            "230/230 [==============================] - 1s 2ms/step - loss: 0.1834 - accuracy: 0.9457 - val_loss: 0.3261 - val_accuracy: 0.9138\n",
            "Epoch 21/50\n",
            "230/230 [==============================] - 0s 2ms/step - loss: 0.1810 - accuracy: 0.9435 - val_loss: 0.3361 - val_accuracy: 0.9138\n",
            "Epoch 22/50\n",
            "230/230 [==============================] - 1s 2ms/step - loss: 0.1523 - accuracy: 0.9543 - val_loss: 0.3465 - val_accuracy: 0.9224\n",
            "Epoch 23/50\n",
            "230/230 [==============================] - 0s 2ms/step - loss: 0.1665 - accuracy: 0.9543 - val_loss: 0.3479 - val_accuracy: 0.9224\n",
            "Epoch 24/50\n",
            "230/230 [==============================] - 1s 2ms/step - loss: 0.1135 - accuracy: 0.9739 - val_loss: 0.3337 - val_accuracy: 0.9138\n",
            "Epoch 25/50\n",
            "230/230 [==============================] - 0s 2ms/step - loss: 0.1349 - accuracy: 0.9587 - val_loss: 0.3029 - val_accuracy: 0.9483\n",
            "Epoch 26/50\n",
            "230/230 [==============================] - 1s 3ms/step - loss: 0.1169 - accuracy: 0.9609 - val_loss: 0.3395 - val_accuracy: 0.9224\n",
            "Epoch 27/50\n",
            "230/230 [==============================] - 0s 2ms/step - loss: 0.1102 - accuracy: 0.9609 - val_loss: 0.3040 - val_accuracy: 0.9310\n",
            "Epoch 28/50\n",
            "230/230 [==============================] - 1s 2ms/step - loss: 0.1076 - accuracy: 0.9761 - val_loss: 0.4089 - val_accuracy: 0.8966\n",
            "Epoch 29/50\n",
            "230/230 [==============================] - 0s 2ms/step - loss: 0.1125 - accuracy: 0.9587 - val_loss: 0.2561 - val_accuracy: 0.9655\n",
            "Epoch 30/50\n",
            "230/230 [==============================] - 1s 2ms/step - loss: 0.0711 - accuracy: 0.9848 - val_loss: 0.2885 - val_accuracy: 0.9483\n",
            "Epoch 31/50\n",
            "230/230 [==============================] - 1s 3ms/step - loss: 0.0677 - accuracy: 0.9913 - val_loss: 0.3103 - val_accuracy: 0.9397\n",
            "Epoch 32/50\n",
            "230/230 [==============================] - 1s 2ms/step - loss: 0.0714 - accuracy: 0.9848 - val_loss: 0.2853 - val_accuracy: 0.9397\n",
            "Epoch 33/50\n",
            "230/230 [==============================] - 1s 3ms/step - loss: 0.0575 - accuracy: 0.9848 - val_loss: 0.2960 - val_accuracy: 0.9310\n",
            "Epoch 34/50\n",
            "230/230 [==============================] - 1s 3ms/step - loss: 0.0660 - accuracy: 0.9870 - val_loss: 0.2796 - val_accuracy: 0.9483\n",
            "Epoch 35/50\n",
            "230/230 [==============================] - 1s 2ms/step - loss: 0.0937 - accuracy: 0.9674 - val_loss: 0.2665 - val_accuracy: 0.9397\n",
            "Epoch 36/50\n",
            "230/230 [==============================] - 0s 2ms/step - loss: 0.0944 - accuracy: 0.9674 - val_loss: 0.2411 - val_accuracy: 0.9655\n",
            "Epoch 37/50\n",
            "230/230 [==============================] - 1s 3ms/step - loss: 0.0455 - accuracy: 0.9848 - val_loss: 0.3051 - val_accuracy: 0.9397\n",
            "Epoch 38/50\n",
            "230/230 [==============================] - 1s 2ms/step - loss: 0.0392 - accuracy: 0.9957 - val_loss: 0.2904 - val_accuracy: 0.9397\n",
            "Epoch 39/50\n",
            "230/230 [==============================] - 1s 2ms/step - loss: 0.0472 - accuracy: 0.9870 - val_loss: 0.2952 - val_accuracy: 0.9483\n",
            "Epoch 40/50\n",
            "230/230 [==============================] - 1s 2ms/step - loss: 0.0833 - accuracy: 0.9674 - val_loss: 0.3097 - val_accuracy: 0.9483\n",
            "Epoch 41/50\n",
            "230/230 [==============================] - 1s 3ms/step - loss: 0.0457 - accuracy: 0.9848 - val_loss: 0.3005 - val_accuracy: 0.9310\n",
            "Epoch 42/50\n",
            "230/230 [==============================] - 0s 2ms/step - loss: 0.0260 - accuracy: 0.9957 - val_loss: 0.2670 - val_accuracy: 0.9655\n",
            "Epoch 43/50\n",
            "230/230 [==============================] - 1s 3ms/step - loss: 0.0917 - accuracy: 0.9717 - val_loss: 0.3803 - val_accuracy: 0.9138\n",
            "Epoch 44/50\n",
            "230/230 [==============================] - 1s 3ms/step - loss: 0.0432 - accuracy: 0.9848 - val_loss: 0.2825 - val_accuracy: 0.9483\n",
            "Epoch 45/50\n",
            "230/230 [==============================] - 0s 2ms/step - loss: 0.0199 - accuracy: 1.0000 - val_loss: 0.3382 - val_accuracy: 0.9310\n",
            "Epoch 46/50\n",
            "230/230 [==============================] - 1s 2ms/step - loss: 0.0304 - accuracy: 0.9957 - val_loss: 0.2993 - val_accuracy: 0.9310\n",
            "Epoch 47/50\n",
            "230/230 [==============================] - 0s 2ms/step - loss: 0.0268 - accuracy: 0.9935 - val_loss: 0.2718 - val_accuracy: 0.9655\n",
            "Epoch 48/50\n",
            "230/230 [==============================] - 1s 2ms/step - loss: 0.0299 - accuracy: 0.9935 - val_loss: 0.2871 - val_accuracy: 0.9569\n",
            "Epoch 49/50\n",
            "230/230 [==============================] - 0s 2ms/step - loss: 0.1072 - accuracy: 0.9652 - val_loss: 1.3647 - val_accuracy: 0.6034\n",
            "Epoch 50/50\n",
            "230/230 [==============================] - 1s 2ms/step - loss: 0.0547 - accuracy: 0.9804 - val_loss: 0.2391 - val_accuracy: 0.9741\n"
          ]
        }
      ]
    },
    {
      "cell_type": "markdown",
      "source": [
        "Plotting loss for each epoch"
      ],
      "metadata": {
        "id": "CnqrkJuWc5rq"
      }
    },
    {
      "cell_type": "code",
      "source": [
        "plt.rcParams[\"figure.figsize\"] = (15,10)\n",
        "\n",
        "# graph the loss, the model above is configure to use \"mean squared error\" as the loss function\n",
        "train_loss = history.history['loss']\n",
        "val_loss = history.history['val_loss']\n",
        "epochs = range(1, len(train_loss) + 1)\n",
        "plt.plot(epochs, train_loss, 'g', label='Training loss')\n",
        "plt.plot(epochs, val_loss, 'b', label='Validation loss')\n",
        "plt.title('Training and validation loss')\n",
        "plt.xlabel('Epochs')\n",
        "plt.ylabel('Loss')\n",
        "plt.legend()\n",
        "plt.show()"
      ],
      "metadata": {
        "colab": {
          "base_uri": "https://localhost:8080/",
          "height": 621
        },
        "id": "22LVBY9oeVH9",
        "outputId": "833dbf47-9860-4619-e63e-386f30895fb5"
      },
      "execution_count": null,
      "outputs": [
        {
          "output_type": "display_data",
          "data": {
            "image/png": "[encoded data removed]",
            "text/plain": [
              "<Figure size 1080x720 with 1 Axes>"
            ]
          },
          "metadata": {
            "needs_background": "light"
          }
        }
      ]
    },
    {
      "cell_type": "markdown",
      "source": [
        "Plotting accuracy for each epoch"
      ],
      "metadata": {
        "id": "_VdZ2RzVdqod"
      }
    },
    {
      "cell_type": "code",
      "source": [
        "plt.rcParams[\"figure.figsize\"] = (15,10)\n",
        "\n",
        "# graph the loss, the model above is configure to use \"mean squared error\" as the loss function\n",
        "train_acc = history.history['accuracy']\n",
        "val_acc = history.history['val_accuracy']\n",
        "epochs = range(1, len(train_loss) + 1)\n",
        "plt.plot(epochs, train_acc, 'g', label='Training Accuracy')\n",
        "plt.plot(epochs, val_acc, 'b', label='Validation Accuracy')\n",
        "plt.title('Training and validation Accuracy')\n",
        "plt.xlabel('Epochs')\n",
        "plt.ylabel('Accuracy')\n",
        "plt.legend()\n",
        "plt.show()"
      ],
      "metadata": {
        "colab": {
          "base_uri": "https://localhost:8080/",
          "height": 621
        },
        "id": "q5S3-IJmdO4j",
        "outputId": "ff64718b-0f5a-47db-fe67-a4d3035daf60"
      },
      "execution_count": null,
      "outputs": [
        {
          "output_type": "display_data",
          "data": {
            "image/png": "[encoded data removed]",
            "text/plain": [
              "<Figure size 1080x720 with 1 Axes>"
            ]
          },
          "metadata": {
            "needs_background": "light"
          }
        }
      ]
    },
    {
      "cell_type": "code",
      "source": [
        "predictions = np.argmax(model.predict(x_test),axis = 1)\n",
        "predictions = predictions.astype(int)\n",
        "accuracy = np.mean(predictions == y_test)\n",
        "precision = precision_score(y_test,predictions,average = 'weighted')\n",
        "recall = recall_score(y_test,predictions,average = 'weighted')\n",
        "f1 = f1_score(y_test,predictions,average = 'weighted')\n",
        "conf_mat = confusion_matrix(y_test,predictions)\n",
        "conf_mat = pd.DataFrame(conf_mat)\n",
        "conf_mat.columns = activities\n",
        "conf_mat.index = activities\n",
        "print('accuracy:', accuracy)\n",
        "print('Precision: ', precision)\n",
        "print('Recall: ', recall)\n",
        "print('f1_score: ', f1)\n",
        "print('Confusion Matrix: \\n', conf_mat)"
      ],
      "metadata": {
        "colab": {
          "base_uri": "https://localhost:8080/"
        },
        "id": "dmQG9CWTd4x6",
        "outputId": "5f5aa760-bfe2-46e5-8b2a-70a68c10354f"
      },
      "execution_count": null,
      "outputs": [
        {
          "output_type": "stream",
          "name": "stdout",
          "text": [
            "accuracy: 0.9791666666666666\n",
            "Precision:  0.9803766835016836\n",
            "Recall:  0.9791666666666666\n",
            "f1_score:  0.9792122787812443\n",
            "Confusion Matrix: \n",
            "              asc_data  des_data  dance_data  jump_data  sit_data  stand_data  \\\n",
            "asc_data           10         0           0          0         0           0   \n",
            "des_data            0        10           0          0         0           0   \n",
            "dance_data          0         0          12          0         0           0   \n",
            "jump_data           0         0           0         15         0           0   \n",
            "sit_data            0         0           0          0        14           0   \n",
            "stand_data          0         0           0          0         0           9   \n",
            "walk_data           0         0           0          0         0           0   \n",
            "eat_data            0         0           0          0         0           0   \n",
            "pushf_data          0         1           0          0         0           0   \n",
            "pushg_data          0         0           0          0         0           0   \n",
            "laptop_data         0         0           0          0         0           0   \n",
            "run_data            0         0           0          0         0           0   \n",
            "\n",
            "             walk_data  eat_data  pushf_data  pushg_data  laptop_data  \\\n",
            "asc_data             0         0           0           0            0   \n",
            "des_data             0         0           0           0            0   \n",
            "dance_data           0         0           0           0            0   \n",
            "jump_data            0         0           0           0            0   \n",
            "sit_data             0         0           0           0            0   \n",
            "stand_data           0         0           0           0            0   \n",
            "walk_data           14         0           0           0            0   \n",
            "eat_data             0        11           0           0            0   \n",
            "pushf_data           0         0          11           0            0   \n",
            "pushg_data           0         0           0          10            0   \n",
            "laptop_data          0         0           1           0           14   \n",
            "run_data             0         0           0           0            0   \n",
            "\n",
            "             run_data  \n",
            "asc_data            0  \n",
            "des_data            0  \n",
            "dance_data          0  \n",
            "jump_data           0  \n",
            "sit_data            0  \n",
            "stand_data          0  \n",
            "walk_data           0  \n",
            "eat_data            1  \n",
            "pushf_data          0  \n",
            "pushg_data          0  \n",
            "laptop_data         0  \n",
            "run_data           11  \n"
          ]
        }
      ]
    },
    {
      "cell_type": "code",
      "source": [
        "#code to convert deployable model - code is referred from IMU TinyML mheath note book used in class discussions\n",
        "converter = tf.lite.TFLiteConverter.from_keras_model(model)\n",
        "tflite_model = converter.convert()\n",
        "\n",
        "# Save the model to disk\n",
        "open(\"gesture_model.tflite\", \"wb\").write(tflite_model)\n",
        "\n",
        "\n",
        "# Convert the model to the TensorFlow Lite format with quantization\n",
        "converter = tf.lite.TFLiteConverter.from_keras_model(model)\n",
        "converter.optimizations = [tf.lite.Optimize.DEFAULT]\n",
        "# Define a generator function that provides our test data's x values\n",
        "# as a representative dataset, and tell the converter to use it\n",
        "def representative_dataset_generator():\n",
        "    for value in x_test:\n",
        "        yield [np.array(value, dtype=np.float32, ndmin=2)]\n",
        "converter.representative_dataset = representative_dataset_generator\n",
        "# Convert the model\n",
        "quant_model = converter.convert()\n",
        "open(\"quantized.tflite\", \"wb\").write(quant_model)\n",
        "\n",
        "\n",
        "import os\n",
        "basic_model_size = os.path.getsize(\"gesture_model.tflite\")\n",
        "print(\"Model is %d bytes\" % basic_model_size)\n",
        "quantized_model_size = os.path.getsize(\"quantized.tflite\")\n",
        "print(\"Model is %d bytes\" % quantized_model_size)"
      ],
      "metadata": {
        "colab": {
          "base_uri": "https://localhost:8080/"
        },
        "id": "8LMG9o9qfyYA",
        "outputId": "79da2043-3318-4376-d7e5-5e104bb06ca8"
      },
      "execution_count": null,
      "outputs": [
        {
          "output_type": "stream",
          "name": "stdout",
          "text": [
            "INFO:tensorflow:Assets written to: /tmp/tmpke5ufzop/assets\n"
          ]
        },
        {
          "output_type": "stream",
          "name": "stderr",
          "text": [
            "INFO:tensorflow:Assets written to: /tmp/tmpke5ufzop/assets\n",
            "WARNING:absl:Buffer deduplication procedure will be skipped when flatbuffer library is not properly loaded\n"
          ]
        },
        {
          "output_type": "stream",
          "name": "stdout",
          "text": [
            "INFO:tensorflow:Assets written to: /tmp/tmp0v8amqdm/assets\n"
          ]
        },
        {
          "output_type": "stream",
          "name": "stderr",
          "text": [
            "INFO:tensorflow:Assets written to: /tmp/tmp0v8amqdm/assets\n",
            "/usr/local/lib/python3.7/dist-packages/tensorflow/lite/python/convert.py:746: UserWarning: Statistics for quantized inputs were expected, but not specified; continuing anyway.\n",
            "  warnings.warn(\"Statistics for quantized inputs were expected, but not \"\n",
            "WARNING:absl:Buffer deduplication procedure will be skipped when flatbuffer library is not properly loaded\n"
          ]
        },
        {
          "output_type": "stream",
          "name": "stdout",
          "text": [
            "Model is 19632 bytes\n",
            "Model is 7936 bytes\n"
          ]
        }
      ]
    },
    {
      "cell_type": "code",
      "source": [
        "!apt-get install xxd"
      ],
      "metadata": {
        "colab": {
          "base_uri": "https://localhost:8080/"
        },
        "id": "0MN_27Dq-Ysc",
        "outputId": "0448dc13-1f50-4a97-cb0c-291f8674c2f9"
      },
      "execution_count": null,
      "outputs": [
        {
          "output_type": "stream",
          "name": "stdout",
          "text": [
            "Reading package lists... Done\n",
            "Building dependency tree       \n",
            "Reading state information... Done\n",
            "The following package was automatically installed and is no longer required:\n",
            "  libnvidia-common-470\n",
            "Use 'apt autoremove' to remove it.\n",
            "The following NEW packages will be installed:\n",
            "  xxd\n",
            "0 upgraded, 1 newly installed, 0 to remove and 39 not upgraded.\n",
            "Need to get 49.9 kB of archives.\n",
            "After this operation, 201 kB of additional disk space will be used.\n",
            "Get:1 http://archive.ubuntu.com/ubuntu bionic-updates/main amd64 xxd amd64 2:8.0.1453-1ubuntu1.8 [49.9 kB]\n",
            "Fetched 49.9 kB in 1s (91.1 kB/s)\n",
            "Selecting previously unselected package xxd.\n",
            "(Reading database ... 155320 files and directories currently installed.)\n",
            "Preparing to unpack .../xxd_2%3a8.0.1453-1ubuntu1.8_amd64.deb ...\n",
            "Unpacking xxd (2:8.0.1453-1ubuntu1.8) ...\n",
            "Setting up xxd (2:8.0.1453-1ubuntu1.8) ...\n",
            "Processing triggers for man-db (2.8.3-2ubuntu0.1) ...\n"
          ]
        }
      ]
    },
    {
      "cell_type": "code",
      "source": [
        "!echo \"const unsigned char model[] = {\" >model.h\n",
        "!cat gesture_model.tflite | xxd -i      >> model.h\n",
        "!echo \"};\"                              >> model.h\n",
        "\n",
        "import os\n",
        "model_h_size = os.path.getsize(\"model.h\")\n",
        "print(f\"Header file, model.h, is {model_h_size:,} bytes.\")"
      ],
      "metadata": {
        "colab": {
          "base_uri": "https://localhost:8080/"
        },
        "id": "W4Vc_clV3-0B",
        "outputId": "b7814fb7-0c4d-4e9d-e52d-061600a5437a"
      },
      "execution_count": null,
      "outputs": [
        {
          "output_type": "stream",
          "name": "stdout",
          "text": [
            "Header file, model.h, is 121,098 bytes.\n"
          ]
        }
      ]
    },
    {
      "cell_type": "code",
      "source": [
        "!echo \"const unsigned char model[] = {\" >model1.h\n",
        "!cat quantized.tflite | xxd -i      >> model1.h\n",
        "!echo \"};\"                              >> model1.h\n",
        "\n",
        "import os\n",
        "model_h_size = os.path.getsize(\"model1.h\")\n",
        "print(f\"Header file, model1.h, is {model_h_size:,} bytes.\")\n",
        "print(\"\\nOpen the side panel (refresh if needed). Double click model.h to download the file.\")"
      ],
      "metadata": {
        "colab": {
          "base_uri": "https://localhost:8080/"
        },
        "id": "g8Uh68Ip4BAp",
        "outputId": "addd4cbc-2ec7-4b0d-f1c8-3e342a22c486"
      },
      "execution_count": null,
      "outputs": [
        {
          "output_type": "stream",
          "name": "stdout",
          "text": [
            "Header file, model1.h, is 48,974 bytes.\n",
            "\n",
            "Open the side panel (refresh if needed). Double click model.h to download the file.\n"
          ]
        }
      ]
    }
  ]
}