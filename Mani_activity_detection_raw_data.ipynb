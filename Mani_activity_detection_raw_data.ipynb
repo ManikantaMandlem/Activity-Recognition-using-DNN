{
  "nbformat": 4,
  "nbformat_minor": 0,
  "metadata": {
    "colab": {
      "name": "Mani_activity_detection_raw_data.ipynb",
      "provenance": []
    },
    "kernelspec": {
      "name": "python3",
      "display_name": "Python 3"
    },
    "language_info": {
      "name": "python"
    }
  },
  "cells": [
    {
      "cell_type": "code",
      "execution_count": 1,
      "metadata": {
        "id": "URRIdUJdHiM0"
      },
      "outputs": [],
      "source": [
        "import matplotlib.pyplot as plt\n",
        "import numpy as np\n",
        "from keras.models import Model\n",
        "from keras import layers, losses, Sequential\n",
        "from sklearn.model_selection import train_test_split\n",
        "from sklearn.metrics import precision_score, recall_score, f1_score, confusion_matrix\n",
        "import pandas as pd\n",
        "pd.set_option(\"display.max_rows\", None, \"display.max_columns\", None)\n",
        "import tensorflow as tf\n",
        "import keras\n",
        "#import tensorflow as tf"
      ]
    },
    {
      "cell_type": "code",
      "source": [
        "with open('/content/drive/MyDrive/mHealth/project2/ascending stairs.csv', 'r', encoding='utf-8-sig') as f: \n",
        "    asc_data = np.genfromtxt(f,delimiter = ',')\n",
        "with open('/content/drive/MyDrive/mHealth/project2/dancing.csv', 'r', encoding='utf-8-sig') as f: \n",
        "    dance_data = np.genfromtxt(f,delimiter = ',')\n",
        "with open('/content/drive/MyDrive/mHealth/project2/descending stairs.csv', 'r', encoding='utf-8-sig') as f: \n",
        "    des_data = np.genfromtxt(f,delimiter = ',')\n",
        "with open('/content/drive/MyDrive/mHealth/project2/jumping.csv', 'r', encoding='utf-8-sig') as f: \n",
        "    jump_data = np.genfromtxt(f,delimiter = ',')\n",
        "with open('/content/drive/MyDrive/mHealth/project2/sitting.csv', 'r', encoding='utf-8-sig') as f: \n",
        "    sit_data = np.genfromtxt(f,delimiter = ',')\n",
        "with open('/content/drive/MyDrive/mHealth/project2/standing.csv', 'r', encoding='utf-8-sig') as f: \n",
        "    stand_data = np.genfromtxt(f,delimiter = ',')\n",
        "with open('/content/drive/MyDrive/mHealth/project2/walking.csv', 'r', encoding='utf-8-sig') as f: \n",
        "    walk_data = np.genfromtxt(f,delimiter = ',')\n",
        "\n",
        "\n",
        "with open('/content/drive/MyDrive/mHealth/project2/eating.csv', 'r', encoding='utf-8-sig') as f: \n",
        "    eat_data = np.genfromtxt(f,delimiter = ',')\n",
        "with open('/content/drive/MyDrive/mHealth/project2/pushups on floor.csv', 'r', encoding='utf-8-sig') as f: \n",
        "    pushf_data = np.genfromtxt(f,delimiter = ',')\n",
        "with open('/content/drive/MyDrive/mHealth/project2/pushups against wall.csv', 'r', encoding='utf-8-sig') as f: \n",
        "    pushg_data = np.genfromtxt(f,delimiter = ',')\n",
        "with open('/content/drive/MyDrive/mHealth/project2/working on laptop.csv', 'r', encoding='utf-8-sig') as f: \n",
        "    laptop_data = np.genfromtxt(f,delimiter = ',')\n",
        "with open('/content/drive/MyDrive/mHealth/project2/running.csv', 'r', encoding='utf-8-sig') as f: \n",
        "    run_data = np.genfromtxt(f,delimiter = ',')\n"
      ],
      "metadata": {
        "id": "uFeT3e0iINGi"
      },
      "execution_count": 2,
      "outputs": []
    },
    {
      "cell_type": "code",
      "source": [
        "full_data = np.concatenate([asc_data,dance_data,des_data,jump_data,sit_data,stand_data,walk_data,eat_data,pushf_data,pushg_data,laptop_data,run_data],axis = 0)\n",
        "full_data.shape\n",
        "minimum = np.min(full_data,axis = 0)\n",
        "maximum = np.max(full_data,axis = 0)\n",
        "print(minimum)\n",
        "print(maximum)"
      ],
      "metadata": {
        "colab": {
          "base_uri": "https://localhost:8080/"
        },
        "id": "rQTDzy1atBj8",
        "outputId": "5c79818d-2ecb-4b93-85bf-ccc309913b63"
      },
      "execution_count": 3,
      "outputs": [
        {
          "output_type": "stream",
          "name": "stdout",
          "text": [
            "[  -3.79   -2.04   -1.69 -295.84 -150.57 -186.71]\n",
            "[  0.55   2.48   1.96 220.03 183.29 113.1 ]\n"
          ]
        }
      ]
    },
    {
      "cell_type": "code",
      "source": [
        "\n",
        "\n",
        "def normalize_data(data):\n",
        "    minimum = np.min(data,axis = 0)#np.array([-4.0,-4.0,-4.0,-2000.0,-2000.0,-2000.0])#np.min(data,axis = 0)\n",
        "    maximum = np.max(data,axis = 0)#np.array([4.0,4.0,4.0,2000.0,2000.0,2000.0])#np.max(data,axis = 0)\n",
        "    #print('minimum')\n",
        "    #print(minimum)\n",
        "    #print('maximum')\n",
        "    #print(maximum)\n",
        "    norm_data = (data - minimum) / (maximum - minimum)\n",
        "    return norm_data, minimum, maximum"
      ],
      "metadata": {
        "id": "Lm59FwhBIWu6"
      },
      "execution_count": 4,
      "outputs": []
    },
    {
      "cell_type": "code",
      "source": [
        "asc_data,min1, max1  = normalize_data(asc_data)\n",
        "dance_data,min2, max2 = normalize_data(dance_data)\n",
        "des_data,min3, max3 = normalize_data(des_data)\n",
        "jump_data,min4, max4 = normalize_data(jump_data)\n",
        "sit_data,min5, max5 = normalize_data(sit_data)\n",
        "stand_data,min6, max6 = normalize_data(stand_data)\n",
        "walk_data,min7, max7 = normalize_data(walk_data)\n",
        "\n",
        "\n",
        "eat_data,min8, max8 = normalize_data(eat_data)\n",
        "pushf_data,min9, max9 = normalize_data(pushf_data)\n",
        "pushg_data,min10, max10 = normalize_data(pushg_data)\n",
        "laptop_data,min11, max11= normalize_data(laptop_data)\n",
        "run_data,min12, max12 = normalize_data(run_data)\n",
        "\n",
        "print((min1+min2+min3+min4+min5+min6+min7+min8+min9+min10+min11+min12)/12.0)\n",
        "print((max1+max2+max3+max4+max5+max6+max7+max8+max9+max10+max11+max12)/12.0)"
      ],
      "metadata": {
        "id": "VNK_hPQKQB-I",
        "colab": {
          "base_uri": "https://localhost:8080/"
        },
        "outputId": "79bcabaf-8f6f-46e3-c583-19475b21b455"
      },
      "execution_count": 5,
      "outputs": [
        {
          "output_type": "stream",
          "name": "stdout",
          "text": [
            "[  -1.63166667   -0.57916667   -0.3725     -117.25333333  -66.84833333\n",
            "  -73.76583333]\n",
            "[-8.08333333e-02  1.01916667e+00  1.02333333e+00  1.05265833e+02\n",
            "  9.29066667e+01  5.77300000e+01]\n"
          ]
        }
      ]
    },
    {
      "cell_type": "code",
      "source": [
        "def get_features(data):\n",
        "    final_data = []\n",
        "    for i in range(data.shape[0]):\n",
        "        example = []\n",
        "        for j in range(data.shape[2]):\n",
        "            segment = data[i,:,j]\n",
        "            example.extend(segment)\n",
        "        final_data.append(example)\n",
        "    return np.array(final_data)"
      ],
      "metadata": {
        "id": "WHLoR0WKOlGL"
      },
      "execution_count": 6,
      "outputs": []
    },
    {
      "cell_type": "code",
      "source": [
        "def get_segments(data):\n",
        "    #here data is expected to be of 14280 samples (or multiples of 238) as I am segmenting 2 seconds of sensor data for one example\n",
        "    segments = np.split(data,np.arange(0,14280,357)[1:])\n",
        "    return np.array(segments)\n"
      ],
      "metadata": {
        "id": "Uy3H-GKRL73p"
      },
      "execution_count": 7,
      "outputs": []
    },
    {
      "cell_type": "code",
      "source": [
        "asc_data_segments = get_segments(asc_data)\n",
        "des_data_segments = get_segments(des_data)\n",
        "dance_data_segments = get_segments(dance_data)\n",
        "jump_data_segments = get_segments(jump_data)\n",
        "sit_data_segments = get_segments(sit_data)\n",
        "stand_data_segments = get_segments(stand_data)\n",
        "walk_data_segments = get_segments(walk_data)\n",
        "\n",
        "eat_data_segments = get_segments(eat_data)\n",
        "pushf_data_segments = get_segments(pushf_data)\n",
        "pushg_data_segments = get_segments(pushg_data)\n",
        "laptop_data_segments = get_segments(laptop_data)\n",
        "run_data_segments = get_segments(run_data)\n",
        "\n",
        "print(asc_data_segments.shape)"
      ],
      "metadata": {
        "colab": {
          "base_uri": "https://localhost:8080/"
        },
        "id": "zZsY0dUyMxKB",
        "outputId": "4795c92c-51dd-4397-bd82-1d0e33126421"
      },
      "execution_count": 8,
      "outputs": [
        {
          "output_type": "stream",
          "name": "stdout",
          "text": [
            "(40, 357, 6)\n"
          ]
        }
      ]
    },
    {
      "cell_type": "code",
      "source": [
        "asc_data_features = get_features(asc_data_segments)\n",
        "des_data_features = get_features(des_data_segments)\n",
        "dance_data_features = get_features(dance_data_segments)\n",
        "jump_data_features = get_features(jump_data_segments)\n",
        "sit_data_features = get_features(sit_data_segments)\n",
        "stand_data_features = get_features(stand_data_segments)\n",
        "walk_data_features = get_features(walk_data_segments)\n",
        "\n",
        "eat_data_features = get_features(eat_data_segments)\n",
        "pushf_data_features = get_features(pushf_data_segments)\n",
        "pushg_data_features = get_features(pushg_data_segments)\n",
        "laptop_data_features = get_features(laptop_data_segments)\n",
        "run_data_features = get_features(run_data_segments)\n",
        "\n",
        "print(asc_data_features.shape)"
      ],
      "metadata": {
        "colab": {
          "base_uri": "https://localhost:8080/"
        },
        "id": "g93FehDyRgVs",
        "outputId": "df675bd7-016e-4c7c-83b8-dca204553484"
      },
      "execution_count": 9,
      "outputs": [
        {
          "output_type": "stream",
          "name": "stdout",
          "text": [
            "(40, 2142)\n"
          ]
        }
      ]
    },
    {
      "cell_type": "code",
      "source": [
        "#preparing train, validation and test data and labels\n",
        "activities = ['asc_data','des_data','dance_data','jump_data','sit_data','stand_data','walk_data','eat_data','pushf_data','pushg_data','laptop_data','run_data']\n",
        "activity_length = [len(asc_data_features),len(des_data_features),len(dance_data_features),len(jump_data_features),len(sit_data_features),len(stand_data_features),len(walk_data_features),\n",
        "                   len(eat_data_features),len(pushf_data_features),len(pushg_data_features),len(laptop_data_features),len(run_data_features)]\n",
        "activity_id = np.arange(len(activities))\n",
        "labels = []\n",
        "for i,id in enumerate(activity_id):\n",
        "    labels.extend(np.full(activity_length[i],id))\n",
        "labels = np.array(labels)\n",
        "full_features = np.concatenate([asc_data_features,des_data_features,dance_data_features,jump_data_features,sit_data_features,stand_data_features,walk_data_features,\n",
        "                                eat_data_features,pushf_data_features,pushg_data_features,laptop_data_features,run_data_features],axis = 0)\n",
        "x_train,x_test,y_train,y_test = train_test_split(full_features,labels,test_size = 0.2,random_state = 2, shuffle = True)\n",
        "x_train,x_valid,y_train,y_valid = train_test_split(x_train,y_train,test_size = 0.2,random_state = 2, shuffle = True)\n",
        "print(x_train.shape)\n",
        "print(x_valid.shape)\n",
        "print(x_test.shape)\n",
        "print(y_train.shape)\n",
        "print(y_valid.shape)\n",
        "print(y_test.shape)\n",
        "\n"
      ],
      "metadata": {
        "colab": {
          "base_uri": "https://localhost:8080/"
        },
        "id": "x3LinWsJXTG4",
        "outputId": "0e02e17f-62e7-4728-93fa-06fe62cfc1dd"
      },
      "execution_count": 10,
      "outputs": [
        {
          "output_type": "stream",
          "name": "stdout",
          "text": [
            "(307, 2142)\n",
            "(77, 2142)\n",
            "(96, 2142)\n",
            "(307,)\n",
            "(77,)\n",
            "(96,)\n"
          ]
        }
      ]
    },
    {
      "cell_type": "code",
      "source": [
        "class activity_detector(Model):\n",
        "  def __init__(self):\n",
        "    super(activity_detector, self).__init__()\n",
        "    self.forward_pass = Sequential([\n",
        "      layers.Dense(64, activation=\"relu\"),\n",
        "      layers.Dense(32, activation=\"relu\"),\n",
        "      layers.Dense(32, activation=\"relu\"),\n",
        "      layers.Dense(12, activation=\"softmax\")])\n",
        "    \n",
        "  def call(self, x):\n",
        "    fp = self.forward_pass(x)\n",
        "    return fp\n"
      ],
      "metadata": {
        "id": "OjMoSgZ0TSRT"
      },
      "execution_count": 11,
      "outputs": []
    },
    {
      "cell_type": "code",
      "source": [
        "model = activity_detector()\n",
        "model.compile(optimizer='adam', loss='sparse_categorical_crossentropy',metrics='accuracy')\n",
        "history = model.fit(x_train, y_train,epochs=50,batch_size=10,validation_data=(x_valid, y_valid),shuffle=True)"
      ],
      "metadata": {
        "colab": {
          "base_uri": "https://localhost:8080/"
        },
        "id": "JUP7K2inVEba",
        "outputId": "2362de16-478b-4ebb-b359-635b826d7e25"
      },
      "execution_count": 12,
      "outputs": [
        {
          "output_type": "stream",
          "name": "stdout",
          "text": [
            "Epoch 1/50\n",
            "31/31 [==============================] - 2s 18ms/step - loss: 2.5262 - accuracy: 0.0684 - val_loss: 2.4795 - val_accuracy: 0.0779\n",
            "Epoch 2/50\n",
            "31/31 [==============================] - 0s 8ms/step - loss: 2.4618 - accuracy: 0.0977 - val_loss: 2.4477 - val_accuracy: 0.0649\n",
            "Epoch 3/50\n",
            "31/31 [==============================] - 0s 7ms/step - loss: 2.3658 - accuracy: 0.1857 - val_loss: 2.2804 - val_accuracy: 0.2078\n",
            "Epoch 4/50\n",
            "31/31 [==============================] - 0s 8ms/step - loss: 2.1666 - accuracy: 0.2541 - val_loss: 2.1399 - val_accuracy: 0.2078\n",
            "Epoch 5/50\n",
            "31/31 [==============================] - 0s 6ms/step - loss: 1.9412 - accuracy: 0.3094 - val_loss: 1.9198 - val_accuracy: 0.3506\n",
            "Epoch 6/50\n",
            "31/31 [==============================] - 0s 9ms/step - loss: 1.7062 - accuracy: 0.4332 - val_loss: 1.6798 - val_accuracy: 0.2597\n",
            "Epoch 7/50\n",
            "31/31 [==============================] - 0s 6ms/step - loss: 1.4979 - accuracy: 0.5407 - val_loss: 1.5255 - val_accuracy: 0.4156\n",
            "Epoch 8/50\n",
            "31/31 [==============================] - 0s 10ms/step - loss: 1.3930 - accuracy: 0.5733 - val_loss: 1.7891 - val_accuracy: 0.3506\n",
            "Epoch 9/50\n",
            "31/31 [==============================] - 0s 9ms/step - loss: 1.2444 - accuracy: 0.5798 - val_loss: 1.2389 - val_accuracy: 0.5455\n",
            "Epoch 10/50\n",
            "31/31 [==============================] - 0s 10ms/step - loss: 1.0998 - accuracy: 0.6775 - val_loss: 1.2084 - val_accuracy: 0.5584\n",
            "Epoch 11/50\n",
            "31/31 [==============================] - 0s 7ms/step - loss: 1.0133 - accuracy: 0.6775 - val_loss: 1.0804 - val_accuracy: 0.6364\n",
            "Epoch 12/50\n",
            "31/31 [==============================] - 0s 7ms/step - loss: 0.9077 - accuracy: 0.7231 - val_loss: 1.0596 - val_accuracy: 0.5455\n",
            "Epoch 13/50\n",
            "31/31 [==============================] - 0s 7ms/step - loss: 0.8034 - accuracy: 0.7687 - val_loss: 0.9887 - val_accuracy: 0.6623\n",
            "Epoch 14/50\n",
            "31/31 [==============================] - 0s 8ms/step - loss: 0.7711 - accuracy: 0.7752 - val_loss: 1.0148 - val_accuracy: 0.5974\n",
            "Epoch 15/50\n",
            "31/31 [==============================] - 0s 9ms/step - loss: 0.7236 - accuracy: 0.7622 - val_loss: 0.8358 - val_accuracy: 0.6883\n",
            "Epoch 16/50\n",
            "31/31 [==============================] - 0s 9ms/step - loss: 0.6383 - accuracy: 0.7883 - val_loss: 0.8384 - val_accuracy: 0.6883\n",
            "Epoch 17/50\n",
            "31/31 [==============================] - 0s 7ms/step - loss: 0.6274 - accuracy: 0.8111 - val_loss: 0.8818 - val_accuracy: 0.7143\n",
            "Epoch 18/50\n",
            "31/31 [==============================] - 0s 6ms/step - loss: 0.5558 - accuracy: 0.8176 - val_loss: 0.7253 - val_accuracy: 0.7922\n",
            "Epoch 19/50\n",
            "31/31 [==============================] - 0s 7ms/step - loss: 0.4953 - accuracy: 0.8567 - val_loss: 0.6473 - val_accuracy: 0.7273\n",
            "Epoch 20/50\n",
            "31/31 [==============================] - 0s 6ms/step - loss: 0.4326 - accuracy: 0.8664 - val_loss: 0.6063 - val_accuracy: 0.7403\n",
            "Epoch 21/50\n",
            "31/31 [==============================] - 0s 6ms/step - loss: 0.4061 - accuracy: 0.8762 - val_loss: 0.6219 - val_accuracy: 0.7273\n",
            "Epoch 22/50\n",
            "31/31 [==============================] - 0s 7ms/step - loss: 0.3808 - accuracy: 0.8599 - val_loss: 0.5757 - val_accuracy: 0.7792\n",
            "Epoch 23/50\n",
            "31/31 [==============================] - 0s 7ms/step - loss: 0.3597 - accuracy: 0.8762 - val_loss: 0.7145 - val_accuracy: 0.6883\n",
            "Epoch 24/50\n",
            "31/31 [==============================] - 0s 10ms/step - loss: 0.3649 - accuracy: 0.8632 - val_loss: 0.4924 - val_accuracy: 0.8182\n",
            "Epoch 25/50\n",
            "31/31 [==============================] - 0s 9ms/step - loss: 0.3208 - accuracy: 0.8860 - val_loss: 0.5028 - val_accuracy: 0.7662\n",
            "Epoch 26/50\n",
            "31/31 [==============================] - 0s 10ms/step - loss: 0.3065 - accuracy: 0.8925 - val_loss: 0.5064 - val_accuracy: 0.7662\n",
            "Epoch 27/50\n",
            "31/31 [==============================] - 0s 8ms/step - loss: 0.2664 - accuracy: 0.9055 - val_loss: 0.4379 - val_accuracy: 0.7922\n",
            "Epoch 28/50\n",
            "31/31 [==============================] - 0s 6ms/step - loss: 0.2440 - accuracy: 0.9186 - val_loss: 0.4258 - val_accuracy: 0.8182\n",
            "Epoch 29/50\n",
            "31/31 [==============================] - 0s 9ms/step - loss: 0.2200 - accuracy: 0.9283 - val_loss: 0.4189 - val_accuracy: 0.7922\n",
            "Epoch 30/50\n",
            "31/31 [==============================] - 0s 7ms/step - loss: 0.2051 - accuracy: 0.9446 - val_loss: 0.3908 - val_accuracy: 0.8182\n",
            "Epoch 31/50\n",
            "31/31 [==============================] - 0s 6ms/step - loss: 0.2092 - accuracy: 0.9088 - val_loss: 0.3582 - val_accuracy: 0.8701\n",
            "Epoch 32/50\n",
            "31/31 [==============================] - 0s 7ms/step - loss: 0.2088 - accuracy: 0.9544 - val_loss: 0.3950 - val_accuracy: 0.8571\n",
            "Epoch 33/50\n",
            "31/31 [==============================] - 0s 7ms/step - loss: 0.2053 - accuracy: 0.9414 - val_loss: 0.3784 - val_accuracy: 0.8961\n",
            "Epoch 34/50\n",
            "31/31 [==============================] - 0s 5ms/step - loss: 0.1504 - accuracy: 0.9511 - val_loss: 0.3653 - val_accuracy: 0.8571\n",
            "Epoch 35/50\n",
            "31/31 [==============================] - 0s 6ms/step - loss: 0.1269 - accuracy: 0.9642 - val_loss: 0.2847 - val_accuracy: 0.8831\n",
            "Epoch 36/50\n",
            "31/31 [==============================] - 0s 5ms/step - loss: 0.1170 - accuracy: 0.9674 - val_loss: 0.3119 - val_accuracy: 0.8961\n",
            "Epoch 37/50\n",
            "31/31 [==============================] - 0s 6ms/step - loss: 0.1044 - accuracy: 0.9674 - val_loss: 0.2796 - val_accuracy: 0.8961\n",
            "Epoch 38/50\n",
            "31/31 [==============================] - 0s 7ms/step - loss: 0.1107 - accuracy: 0.9674 - val_loss: 0.3046 - val_accuracy: 0.9091\n",
            "Epoch 39/50\n",
            "31/31 [==============================] - 0s 6ms/step - loss: 0.1090 - accuracy: 0.9674 - val_loss: 0.2817 - val_accuracy: 0.8701\n",
            "Epoch 40/50\n",
            "31/31 [==============================] - 0s 5ms/step - loss: 0.1132 - accuracy: 0.9609 - val_loss: 0.2626 - val_accuracy: 0.9091\n",
            "Epoch 41/50\n",
            "31/31 [==============================] - 0s 5ms/step - loss: 0.0823 - accuracy: 0.9772 - val_loss: 0.2413 - val_accuracy: 0.9091\n",
            "Epoch 42/50\n",
            "31/31 [==============================] - 0s 6ms/step - loss: 0.0878 - accuracy: 0.9805 - val_loss: 0.2449 - val_accuracy: 0.8961\n",
            "Epoch 43/50\n",
            "31/31 [==============================] - 0s 6ms/step - loss: 0.0608 - accuracy: 0.9837 - val_loss: 0.2661 - val_accuracy: 0.8831\n",
            "Epoch 44/50\n",
            "31/31 [==============================] - 0s 8ms/step - loss: 0.0593 - accuracy: 0.9870 - val_loss: 0.2324 - val_accuracy: 0.9091\n",
            "Epoch 45/50\n",
            "31/31 [==============================] - 0s 9ms/step - loss: 0.0419 - accuracy: 0.9967 - val_loss: 0.2484 - val_accuracy: 0.9091\n",
            "Epoch 46/50\n",
            "31/31 [==============================] - 0s 8ms/step - loss: 0.0513 - accuracy: 0.9902 - val_loss: 0.2666 - val_accuracy: 0.9091\n",
            "Epoch 47/50\n",
            "31/31 [==============================] - 0s 7ms/step - loss: 0.0421 - accuracy: 0.9967 - val_loss: 0.2351 - val_accuracy: 0.9351\n",
            "Epoch 48/50\n",
            "31/31 [==============================] - 0s 9ms/step - loss: 0.0328 - accuracy: 0.9967 - val_loss: 0.2548 - val_accuracy: 0.9091\n",
            "Epoch 49/50\n",
            "31/31 [==============================] - 0s 14ms/step - loss: 0.0338 - accuracy: 0.9967 - val_loss: 0.2612 - val_accuracy: 0.9221\n",
            "Epoch 50/50\n",
            "31/31 [==============================] - 0s 8ms/step - loss: 0.0304 - accuracy: 0.9935 - val_loss: 0.3452 - val_accuracy: 0.8961\n"
          ]
        }
      ]
    },
    {
      "cell_type": "markdown",
      "source": [
        "Plotting loss for each epoch"
      ],
      "metadata": {
        "id": "CnqrkJuWc5rq"
      }
    },
    {
      "cell_type": "code",
      "source": [
        "plt.rcParams[\"figure.figsize\"] = (15,10)\n",
        "\n",
        "# graph the loss, the model above is configure to use \"mean squared error\" as the loss function\n",
        "train_loss = history.history['loss']\n",
        "val_loss = history.history['val_loss']\n",
        "epochs = range(1, len(train_loss) + 1)\n",
        "plt.plot(epochs, train_loss, 'g', label='Training loss')\n",
        "plt.plot(epochs, val_loss, 'b', label='Validation loss')\n",
        "plt.title('Training and validation loss')\n",
        "plt.xlabel('Epochs')\n",
        "plt.ylabel('Loss')\n",
        "plt.legend()\n",
        "plt.show()"
      ],
      "metadata": {
        "colab": {
          "base_uri": "https://localhost:8080/",
          "height": 621
        },
        "id": "22LVBY9oeVH9",
        "outputId": "e04364c6-c106-45b8-aa99-4888044f7d82"
      },
      "execution_count": 13,
      "outputs": [
        {
          "output_type": "display_data",
          "data": {
            "image/png": "[encoded data removed]",
            "text/plain": [
              "<Figure size 1080x720 with 1 Axes>"
            ]
          },
          "metadata": {
            "needs_background": "light"
          }
        }
      ]
    },
    {
      "cell_type": "markdown",
      "source": [
        "Plotting accuracy for each epoch"
      ],
      "metadata": {
        "id": "_VdZ2RzVdqod"
      }
    },
    {
      "cell_type": "code",
      "source": [
        "plt.rcParams[\"figure.figsize\"] = (15,10)\n",
        "\n",
        "# graph the loss, the model above is configure to use \"mean squared error\" as the loss function\n",
        "train_acc = history.history['accuracy']\n",
        "val_acc = history.history['val_accuracy']\n",
        "epochs = range(1, len(train_loss) + 1)\n",
        "plt.plot(epochs, train_acc, 'g', label='Training Accuracy')\n",
        "plt.plot(epochs, val_acc, 'b', label='Validation Accuracy')\n",
        "plt.title('Training and validation Accuracy')\n",
        "plt.xlabel('Epochs')\n",
        "plt.ylabel('Accuracy')\n",
        "plt.legend()\n",
        "plt.show()"
      ],
      "metadata": {
        "colab": {
          "base_uri": "https://localhost:8080/",
          "height": 621
        },
        "id": "q5S3-IJmdO4j",
        "outputId": "2b088852-d038-475a-bdcf-a9a14fadfb94"
      },
      "execution_count": 14,
      "outputs": [
        {
          "output_type": "display_data",
          "data": {
            "image/png": "[encoded data removed]",
            "text/plain": [
              "<Figure size 1080x720 with 1 Axes>"
            ]
          },
          "metadata": {
            "needs_background": "light"
          }
        }
      ]
    },
    {
      "cell_type": "code",
      "source": [
        "predictions = np.argmax(model.predict(x_test),axis = 1)\n",
        "predictions = predictions.astype(int)\n",
        "accuracy = np.mean(predictions == y_test)\n",
        "precision = precision_score(y_test,predictions,average = 'weighted')\n",
        "recall = recall_score(y_test,predictions,average = 'weighted')\n",
        "f1 = f1_score(y_test,predictions,average = 'weighted')\n",
        "conf_mat = confusion_matrix(y_test,predictions)\n",
        "conf_mat = pd.DataFrame(conf_mat)\n",
        "conf_mat.columns = activities\n",
        "conf_mat.index = activities\n",
        "print('accuracy:', accuracy)\n",
        "print('Precision: ', precision)\n",
        "print('Recall: ', recall)\n",
        "print('f1_score: ', f1)\n",
        "print('Confusion Matrix: \\n', conf_mat)"
      ],
      "metadata": {
        "colab": {
          "base_uri": "https://localhost:8080/"
        },
        "id": "dmQG9CWTd4x6",
        "outputId": "83f9de64-5cf7-450a-9715-a7dec383b027"
      },
      "execution_count": 15,
      "outputs": [
        {
          "output_type": "stream",
          "name": "stdout",
          "text": [
            "accuracy: 0.8125\n",
            "Precision:  0.8691385582010582\n",
            "Recall:  0.8125\n",
            "f1_score:  0.7804366685945633\n",
            "Confusion Matrix: \n",
            "              asc_data  des_data  dance_data  jump_data  sit_data  stand_data  \\\n",
            "asc_data            1         7           0          1         0           0   \n",
            "des_data            0         5           4          0         0           0   \n",
            "dance_data          0         0           5          0         0           0   \n",
            "jump_data           0         0           0          6         0           0   \n",
            "sit_data            0         0           0          0         9           0   \n",
            "stand_data          0         0           0          0         0           7   \n",
            "walk_data           0         0           0          0         0           0   \n",
            "eat_data            0         0           0          0         0           0   \n",
            "pushf_data          0         0           0          0         0           0   \n",
            "pushg_data          0         0           0          0         0           0   \n",
            "laptop_data         0         0           0          0         0           0   \n",
            "run_data            0         0           0          0         0           0   \n",
            "\n",
            "             walk_data  eat_data  pushf_data  pushg_data  laptop_data  \\\n",
            "asc_data             0         0           0           0            0   \n",
            "des_data             0         0           0           0            0   \n",
            "dance_data           0         0           0           0            0   \n",
            "jump_data            0         0           0           0            0   \n",
            "sit_data             0         0           0           0            0   \n",
            "stand_data           0         0           0           0            0   \n",
            "walk_data           10         0           0           0            0   \n",
            "eat_data             0         9           0           0            0   \n",
            "pushf_data           0         0           9           0            0   \n",
            "pushg_data           0         0           0           8            0   \n",
            "laptop_data          0         0           0           0            7   \n",
            "run_data             5         1           0           0            0   \n",
            "\n",
            "             run_data  \n",
            "asc_data            0  \n",
            "des_data            0  \n",
            "dance_data          0  \n",
            "jump_data           0  \n",
            "sit_data            0  \n",
            "stand_data          0  \n",
            "walk_data           0  \n",
            "eat_data            0  \n",
            "pushf_data          0  \n",
            "pushg_data          0  \n",
            "laptop_data         0  \n",
            "run_data            2  \n"
          ]
        }
      ]
    },
    {
      "cell_type": "code",
      "source": [
        "#code to convert deployable model - code is referred from IMU TinyML mheath note book used in class discussions\n",
        "converter = tf.lite.TFLiteConverter.from_keras_model(model)\n",
        "tflite_model = converter.convert()\n",
        "\n",
        "# Save the model to disk\n",
        "open(\"gesture_model.tflite\", \"wb\").write(tflite_model)\n",
        "\n",
        "\n",
        "# Convert the model to the TensorFlow Lite format with quantization\n",
        "converter = tf.lite.TFLiteConverter.from_keras_model(model)\n",
        "converter.optimizations = [tf.lite.Optimize.DEFAULT]\n",
        "# Define a generator function that provides our test data's x values\n",
        "# as a representative dataset, and tell the converter to use it\n",
        "def representative_dataset_generator():\n",
        "    for value in x_test:\n",
        "        yield [np.array(value, dtype=np.float32, ndmin=2)]\n",
        "converter.representative_dataset = representative_dataset_generator\n",
        "# Convert the model\n",
        "quant_model = converter.convert()\n",
        "open(\"quantized.tflite\", \"wb\").write(quant_model)\n",
        "\n",
        "\n",
        "import os\n",
        "basic_model_size = os.path.getsize(\"gesture_model.tflite\")\n",
        "print(\"Model is %d bytes\" % basic_model_size)\n",
        "quantized_model_size = os.path.getsize(\"quantized.tflite\")\n",
        "print(\"Model is %d bytes\" % quantized_model_size)"
      ],
      "metadata": {
        "id": "8LMG9o9qfyYA",
        "colab": {
          "base_uri": "https://localhost:8080/"
        },
        "outputId": "98bddfef-5ff3-4e2c-a9c1-7f362101aeb1"
      },
      "execution_count": 16,
      "outputs": [
        {
          "output_type": "stream",
          "name": "stdout",
          "text": [
            "INFO:tensorflow:Assets written to: /tmp/tmp7lx3khwe/assets\n"
          ]
        },
        {
          "output_type": "stream",
          "name": "stderr",
          "text": [
            "WARNING:absl:Buffer deduplication procedure will be skipped when flatbuffer library is not properly loaded\n"
          ]
        },
        {
          "output_type": "stream",
          "name": "stdout",
          "text": [
            "INFO:tensorflow:Assets written to: /tmp/tmpj045cihf/assets\n"
          ]
        },
        {
          "output_type": "stream",
          "name": "stderr",
          "text": [
            "INFO:tensorflow:Assets written to: /tmp/tmpj045cihf/assets\n",
            "/usr/local/lib/python3.7/dist-packages/tensorflow/lite/python/convert.py:746: UserWarning: Statistics for quantized inputs were expected, but not specified; continuing anyway.\n",
            "  warnings.warn(\"Statistics for quantized inputs were expected, but not \"\n",
            "WARNING:absl:Buffer deduplication procedure will be skipped when flatbuffer library is not properly loaded\n"
          ]
        },
        {
          "output_type": "stream",
          "name": "stdout",
          "text": [
            "Model is 565180 bytes\n",
            "Model is 144344 bytes\n"
          ]
        }
      ]
    },
    {
      "cell_type": "code",
      "source": [
        "!apt-get install xxd"
      ],
      "metadata": {
        "colab": {
          "base_uri": "https://localhost:8080/"
        },
        "id": "jptedBwPODF4",
        "outputId": "b9aab30e-244d-47f6-f905-3d2879637c5e"
      },
      "execution_count": 17,
      "outputs": [
        {
          "output_type": "stream",
          "name": "stdout",
          "text": [
            "Reading package lists... Done\n",
            "Building dependency tree       \n",
            "Reading state information... Done\n",
            "xxd is already the newest version (2:8.0.1453-1ubuntu1.8).\n",
            "The following package was automatically installed and is no longer required:\n",
            "  libnvidia-common-470\n",
            "Use 'apt autoremove' to remove it.\n",
            "0 upgraded, 0 newly installed, 0 to remove and 39 not upgraded.\n"
          ]
        }
      ]
    },
    {
      "cell_type": "code",
      "source": [
        "!echo \"const unsigned char model[] = {\" >model.h\n",
        "!cat gesture_model.tflite | xxd -i      >> model.h\n",
        "!echo \"};\"                              >> model.h\n",
        "\n",
        "import os\n",
        "model_h_size = os.path.getsize(\"model.h\")\n",
        "print(f\"Header file, model.h, is {model_h_size:,} bytes.\")"
      ],
      "metadata": {
        "colab": {
          "base_uri": "https://localhost:8080/"
        },
        "id": "xUTpjkn4OFnl",
        "outputId": "6ed6b931-5d6b-4453-c4ef-440e634604a5"
      },
      "execution_count": 18,
      "outputs": [
        {
          "output_type": "stream",
          "name": "stdout",
          "text": [
            "Header file, model.h, is 3,485,312 bytes.\n"
          ]
        }
      ]
    },
    {
      "cell_type": "code",
      "source": [
        "!echo \"const unsigned char model[] = {\" >model1.h\n",
        "!cat quantized.tflite | xxd -i      >> model1.h\n",
        "!echo \"};\"                              >> model1.h\n",
        "\n",
        "import os\n",
        "model_h_size = os.path.getsize(\"model1.h\")\n",
        "print(f\"Header file, model1.h, is {model_h_size:,} bytes.\")\n",
        "print(\"\\nOpen the side panel (refresh if needed). Double click model.h to download the file.\")"
      ],
      "metadata": {
        "colab": {
          "base_uri": "https://localhost:8080/"
        },
        "id": "IU1Uu3nIOIVR",
        "outputId": "395e32b7-4a89-42bc-f410-6a3f51ac051a"
      },
      "execution_count": 19,
      "outputs": [
        {
          "output_type": "stream",
          "name": "stdout",
          "text": [
            "Header file, model1.h, is 890,156 bytes.\n",
            "\n",
            "Open the side panel (refresh if needed). Double click model.h to download the file.\n"
          ]
        }
      ]
    }
  ]
}