{
  "nbformat": 4,
  "nbformat_minor": 0,
  "metadata": {
    "colab": {
      "name": "Mani_activity_detection_raw_data_fulldata.ipynb",
      "provenance": [],
      "mount_file_id": "1fEjaN2mJP_6EG_JF212u7atIo9ehl3F8",
      "authorship_tag": "ABX9TyPsjzJmf4qCD9fAlaweFeX7",
      "include_colab_link": true
    },
    "kernelspec": {
      "name": "python3",
      "display_name": "Python 3"
    },
    "language_info": {
      "name": "python"
    }
  },
  "cells": [
    {
      "cell_type": "markdown",
      "metadata": {
        "id": "view-in-github",
        "colab_type": "text"
      },
      "source": [
        "<a href=\"https://colab.research.google.com/github/ManikantaMandlem/Activity-Recognition-using-DNN/blob/main/Mani_activity_detection_raw_data_fulldata.ipynb\" target=\"_parent\"><img src=\"https://colab.research.google.com/assets/colab-badge.svg\" alt=\"Open In Colab\"/></a>"
      ]
    },
    {
      "cell_type": "code",
      "execution_count": null,
      "metadata": {
        "id": "URRIdUJdHiM0"
      },
      "outputs": [],
      "source": [
        "import matplotlib.pyplot as plt\n",
        "import numpy as np\n",
        "from keras.models import Model\n",
        "from keras import layers, losses, Sequential\n",
        "from sklearn.model_selection import train_test_split\n",
        "from sklearn.metrics import precision_score, recall_score, f1_score, confusion_matrix\n",
        "import pandas as pd\n",
        "pd.set_option(\"display.max_rows\", None, \"display.max_columns\", None)\n",
        "import tensorflow as tf\n",
        "import keras\n",
        "#import tensorflow as tf"
      ]
    },
    {
      "cell_type": "code",
      "source": [
        "with open('/content/drive/MyDrive/mHealth/project2/ascending_stairs_full.csv', 'r', encoding='utf-8-sig') as f: \n",
        "    asc_data = np.genfromtxt(f,delimiter = ',')\n",
        "with open('/content/drive/MyDrive/mHealth/project2/dancing_full.csv', 'r', encoding='utf-8-sig') as f: \n",
        "    dance_data = np.genfromtxt(f,delimiter = ',')\n",
        "with open('/content/drive/MyDrive/mHealth/project2/descending_stairs_full.csv', 'r', encoding='utf-8-sig') as f: \n",
        "    des_data = np.genfromtxt(f,delimiter = ',')\n",
        "with open('/content/drive/MyDrive/mHealth/project2/jumping_full.csv', 'r', encoding='utf-8-sig') as f: \n",
        "    jump_data = np.genfromtxt(f,delimiter = ',')\n",
        "with open('/content/drive/MyDrive/mHealth/project2/sitting_full.csv', 'r', encoding='utf-8-sig') as f: \n",
        "    sit_data = np.genfromtxt(f,delimiter = ',')\n",
        "with open('/content/drive/MyDrive/mHealth/project2/standing_full.csv', 'r', encoding='utf-8-sig') as f: \n",
        "    stand_data = np.genfromtxt(f,delimiter = ',')\n",
        "with open('/content/drive/MyDrive/mHealth/project2/walking_full.csv', 'r', encoding='utf-8-sig') as f: \n",
        "    walk_data = np.genfromtxt(f,delimiter = ',')"
      ],
      "metadata": {
        "id": "uFeT3e0iINGi"
      },
      "execution_count": null,
      "outputs": []
    },
    {
      "cell_type": "code",
      "source": [
        "print(des_data[3])\n",
        "sum = np.sum(des_data[1:])\n",
        "print(sum)"
      ],
      "metadata": {
        "colab": {
          "base_uri": "https://localhost:8080/"
        },
        "id": "rQTDzy1atBj8",
        "outputId": "85ec91bd-5f74-4a41-f1fa-f502aa416383"
      },
      "execution_count": null,
      "outputs": [
        {
          "output_type": "stream",
          "name": "stdout",
          "text": [
            "[-1.45  0.65  0.57 92.77 75.74  2.2 ]\n",
            "-895616.3200000008\n"
          ]
        }
      ]
    },
    {
      "cell_type": "code",
      "source": [
        "def normalize_data(data):\n",
        "    minimum = np.min(data,axis = 0)\n",
        "    maximum = np.max(data,axis = 0)\n",
        "    norm_data = (data - minimum) / (maximum - minimum)\n",
        "    return norm_data"
      ],
      "metadata": {
        "id": "Lm59FwhBIWu6"
      },
      "execution_count": null,
      "outputs": []
    },
    {
      "cell_type": "code",
      "source": [
        "asc_data = normalize_data(asc_data[1:])\n",
        "dance_data = normalize_data(dance_data[1:])\n",
        "des_data = normalize_data(des_data[1:])\n",
        "jump_data = normalize_data(jump_data[1:])\n",
        "sit_data = normalize_data(sit_data[1:])\n",
        "stand_data = normalize_data(stand_data[1:])\n",
        "walk_data = normalize_data(walk_data[1:])\n",
        "\n",
        "\n",
        "# eat_data = normalize_data(eat_data)\n",
        "# pushf_data = normalize_data(pushf_data)\n",
        "# pushg_data = normalize_data(pushg_data)\n",
        "# laptop_data = normalize_data(laptop_data)\n",
        "# run_data = normalize_data(run_data)\n",
        "\n",
        "\n",
        "full_data = np.concatenate([asc_data,dance_data,des_data,jump_data,sit_data,stand_data,walk_data],axis = 0)\n",
        "full_data.shape"
      ],
      "metadata": {
        "id": "VNK_hPQKQB-I",
        "colab": {
          "base_uri": "https://localhost:8080/"
        },
        "outputId": "1e7c428b-7e1f-4bb3-ef0f-72e5aa7bc371"
      },
      "execution_count": null,
      "outputs": [
        {
          "output_type": "execute_result",
          "data": {
            "text/plain": [
              "(2222531, 6)"
            ]
          },
          "metadata": {},
          "execution_count": 5
        }
      ]
    },
    {
      "cell_type": "code",
      "source": [
        "def get_features(data):\n",
        "    final_data = []\n",
        "    for i in range(data.shape[0]):\n",
        "        example = []\n",
        "        for j in range(data.shape[2]):\n",
        "            segment = data[i,:,j]\n",
        "            example.extend(segment)\n",
        "        final_data.append(example)\n",
        "    return np.array(final_data)"
      ],
      "metadata": {
        "id": "WHLoR0WKOlGL"
      },
      "execution_count": null,
      "outputs": []
    },
    {
      "cell_type": "code",
      "source": [
        "def get_segments(data):\n",
        "    #here data is expected to be of 14280 samples (or multiples of 238) as I am segmenting 2 seconds of sensor data for one example\n",
        "    segments = np.split(data,np.arange(0,data.shape[0],119*3)[1:])\n",
        "    return np.array(segments[:-1])\n"
      ],
      "metadata": {
        "id": "Uy3H-GKRL73p"
      },
      "execution_count": null,
      "outputs": []
    },
    {
      "cell_type": "code",
      "source": [
        "asc_data_segments = get_segments(asc_data)\n",
        "des_data_segments = get_segments(des_data)\n",
        "dance_data_segments = get_segments(dance_data)\n",
        "jump_data_segments = get_segments(jump_data)\n",
        "sit_data_segments = get_segments(sit_data)\n",
        "stand_data_segments = get_segments(stand_data)\n",
        "walk_data_segments = get_segments(walk_data)\n",
        "\n",
        "# eat_data_segments = get_segments(eat_data)\n",
        "# pushf_data_segments = get_segments(pushf_data)\n",
        "# pushg_data_segments = get_segments(pushg_data)\n",
        "# laptop_data_segments = get_segments(laptop_data)\n",
        "# run_data_segments = get_segments(run_data)\n",
        "\n",
        "print(asc_data_segments.shape)"
      ],
      "metadata": {
        "colab": {
          "base_uri": "https://localhost:8080/"
        },
        "id": "zZsY0dUyMxKB",
        "outputId": "401a231d-0339-48bb-d499-bebdbc8aec6d"
      },
      "execution_count": null,
      "outputs": [
        {
          "output_type": "stream",
          "name": "stdout",
          "text": [
            "(888, 357, 6)\n"
          ]
        }
      ]
    },
    {
      "cell_type": "code",
      "source": [
        "asc_data_features = get_features(asc_data_segments)\n",
        "des_data_features = get_features(des_data_segments)\n",
        "dance_data_features = get_features(dance_data_segments)\n",
        "jump_data_features = get_features(jump_data_segments)\n",
        "sit_data_features = get_features(sit_data_segments)\n",
        "stand_data_features = get_features(stand_data_segments)\n",
        "walk_data_features = get_features(walk_data_segments)\n",
        "\n",
        "# eat_data_features = get_features(eat_data_segments)\n",
        "# pushf_data_features = get_features(pushf_data_segments)\n",
        "# pushg_data_features = get_features(pushg_data_segments)\n",
        "# laptop_data_features = get_features(laptop_data_segments)\n",
        "# run_data_features = get_features(run_data_segments)\n",
        "\n",
        "print(asc_data_features.shape)"
      ],
      "metadata": {
        "colab": {
          "base_uri": "https://localhost:8080/"
        },
        "id": "g93FehDyRgVs",
        "outputId": "9673637d-14b8-4175-ac90-b3d1b2bd09a9"
      },
      "execution_count": null,
      "outputs": [
        {
          "output_type": "stream",
          "name": "stdout",
          "text": [
            "(888, 2142)\n"
          ]
        }
      ]
    },
    {
      "cell_type": "code",
      "source": [
        "#preparing train, validation and test data and labels\n",
        "activities = ['asc_data','des_data','dance_data','jump_data','sit_data','stand_data','walk_data']\n",
        "activity_length = [len(asc_data_features),len(des_data_features),len(dance_data_features),len(jump_data_features),len(sit_data_features),len(stand_data_features),len(walk_data_features),]\n",
        "activity_id = np.arange(len(activities))\n",
        "labels = []\n",
        "for i,id in enumerate(activity_id):\n",
        "    labels.extend(np.full(activity_length[i],id))\n",
        "labels = np.array(labels)\n",
        "full_features = np.concatenate([asc_data_features,des_data_features,dance_data_features,jump_data_features,sit_data_features,stand_data_features,walk_data_features,],axis = 0)\n",
        "x_train,x_test,y_train,y_test = train_test_split(full_features,labels,test_size = 0.2,random_state = 2, shuffle = True)\n",
        "x_train,x_valid,y_train,y_valid = train_test_split(x_train,y_train,test_size = 0.2,random_state = 2, shuffle = True)\n",
        "print(x_train.shape)\n",
        "print(x_valid.shape)\n",
        "print(x_test.shape)\n",
        "print(y_train.shape)\n",
        "print(y_valid.shape)\n",
        "print(y_test.shape)\n",
        "\n",
        "sum = np.sum(full_features)\n",
        "print(sum)"
      ],
      "metadata": {
        "colab": {
          "base_uri": "https://localhost:8080/"
        },
        "id": "x3LinWsJXTG4",
        "outputId": "b92be633-56db-4361-e97b-976ea8329be7"
      },
      "execution_count": null,
      "outputs": [
        {
          "output_type": "stream",
          "name": "stdout",
          "text": [
            "(3981, 2142)\n",
            "(996, 2142)\n",
            "(1245, 2142)\n",
            "(3981,)\n",
            "(996,)\n",
            "(1245,)\n",
            "6552263.206721694\n"
          ]
        }
      ]
    },
    {
      "cell_type": "code",
      "source": [
        "class activity_detector(Model):\n",
        "  def __init__(self):\n",
        "    super(activity_detector, self).__init__()\n",
        "    self.forward_pass = Sequential([\n",
        "                                    layers.BatchNormalization(),\n",
        "      layers.Dense(32, activation=\"relu\"),\n",
        "      layers.BatchNormalization(),\n",
        "      layers.Dense(16, activation=\"relu\"),\n",
        "      layers.BatchNormalization(),\n",
        "      #layers.Dense(32, activation=\"relu\"),\n",
        "      layers.Dense(7, activation=\"softmax\")])\n",
        "    \n",
        "  def call(self, x):\n",
        "    fp = self.forward_pass(x)\n",
        "    return fp\n"
      ],
      "metadata": {
        "id": "OjMoSgZ0TSRT"
      },
      "execution_count": null,
      "outputs": []
    },
    {
      "cell_type": "code",
      "source": [
        "model = activity_detector()\n",
        "opt = tf.keras.optimizers.Adam(learning_rate=0.0001)\n",
        "model.compile(optimizer=opt, loss='sparse_categorical_crossentropy',metrics='accuracy')\n",
        "history = model.fit(x_train, y_train,epochs=200,batch_size=None,validation_data=(x_valid, y_valid),shuffle=True)"
      ],
      "metadata": {
        "colab": {
          "base_uri": "https://localhost:8080/"
        },
        "id": "JUP7K2inVEba",
        "outputId": "06e3b3b4-4afd-45f3-c1de-988b255cfff3"
      },
      "execution_count": null,
      "outputs": [
        {
          "output_type": "stream",
          "name": "stdout",
          "text": [
            "Epoch 1/200\n",
            "125/125 [==============================] - 2s 6ms/step - loss: 0.9057 - accuracy: 0.7915 - val_loss: 1.7415 - val_accuracy: 0.3263\n",
            "Epoch 2/200\n",
            "125/125 [==============================] - 1s 5ms/step - loss: 0.5165 - accuracy: 0.9472 - val_loss: 1.4750 - val_accuracy: 0.6878\n",
            "Epoch 3/200\n",
            "125/125 [==============================] - 1s 5ms/step - loss: 0.4144 - accuracy: 0.9746 - val_loss: 1.0169 - val_accuracy: 0.8022\n",
            "Epoch 4/200\n",
            "125/125 [==============================] - 1s 5ms/step - loss: 0.3448 - accuracy: 0.9832 - val_loss: 0.5149 - val_accuracy: 0.9719\n",
            "Epoch 5/200\n",
            "125/125 [==============================] - 1s 5ms/step - loss: 0.3006 - accuracy: 0.9867 - val_loss: 0.3001 - val_accuracy: 0.9819\n",
            "Epoch 6/200\n",
            "125/125 [==============================] - 1s 4ms/step - loss: 0.2739 - accuracy: 0.9864 - val_loss: 0.2179 - val_accuracy: 0.9849\n",
            "Epoch 7/200\n",
            "125/125 [==============================] - 1s 5ms/step - loss: 0.2384 - accuracy: 0.9867 - val_loss: 0.1790 - val_accuracy: 0.9869\n",
            "Epoch 8/200\n",
            "125/125 [==============================] - 1s 5ms/step - loss: 0.2084 - accuracy: 0.9905 - val_loss: 0.1547 - val_accuracy: 0.9859\n",
            "Epoch 9/200\n",
            "125/125 [==============================] - 1s 5ms/step - loss: 0.1790 - accuracy: 0.9912 - val_loss: 0.1408 - val_accuracy: 0.9900\n",
            "Epoch 10/200\n",
            "125/125 [==============================] - 1s 4ms/step - loss: 0.1679 - accuracy: 0.9887 - val_loss: 0.1264 - val_accuracy: 0.9900\n",
            "Epoch 11/200\n",
            "125/125 [==============================] - 1s 5ms/step - loss: 0.1480 - accuracy: 0.9922 - val_loss: 0.1136 - val_accuracy: 0.9900\n",
            "Epoch 12/200\n",
            "125/125 [==============================] - 1s 5ms/step - loss: 0.1331 - accuracy: 0.9930 - val_loss: 0.1000 - val_accuracy: 0.9920\n",
            "Epoch 13/200\n",
            "125/125 [==============================] - 1s 4ms/step - loss: 0.1239 - accuracy: 0.9915 - val_loss: 0.0935 - val_accuracy: 0.9940\n",
            "Epoch 14/200\n",
            "125/125 [==============================] - 1s 5ms/step - loss: 0.1194 - accuracy: 0.9927 - val_loss: 0.0838 - val_accuracy: 0.9920\n",
            "Epoch 15/200\n",
            "125/125 [==============================] - 1s 5ms/step - loss: 0.0983 - accuracy: 0.9977 - val_loss: 0.0789 - val_accuracy: 0.9920\n",
            "Epoch 16/200\n",
            "125/125 [==============================] - 1s 5ms/step - loss: 0.0891 - accuracy: 0.9970 - val_loss: 0.0722 - val_accuracy: 0.9920\n",
            "Epoch 17/200\n",
            "125/125 [==============================] - 1s 5ms/step - loss: 0.0851 - accuracy: 0.9957 - val_loss: 0.0686 - val_accuracy: 0.9920\n",
            "Epoch 18/200\n",
            "125/125 [==============================] - 1s 5ms/step - loss: 0.0795 - accuracy: 0.9955 - val_loss: 0.0594 - val_accuracy: 0.9950\n",
            "Epoch 19/200\n",
            "125/125 [==============================] - 1s 5ms/step - loss: 0.0739 - accuracy: 0.9965 - val_loss: 0.0574 - val_accuracy: 0.9950\n",
            "Epoch 20/200\n",
            "125/125 [==============================] - 1s 4ms/step - loss: 0.0644 - accuracy: 0.9987 - val_loss: 0.0561 - val_accuracy: 0.9950\n",
            "Epoch 21/200\n",
            "125/125 [==============================] - 1s 5ms/step - loss: 0.0645 - accuracy: 0.9962 - val_loss: 0.0552 - val_accuracy: 0.9930\n",
            "Epoch 22/200\n",
            "125/125 [==============================] - 1s 5ms/step - loss: 0.0593 - accuracy: 0.9957 - val_loss: 0.0510 - val_accuracy: 0.9950\n",
            "Epoch 23/200\n",
            "125/125 [==============================] - 1s 5ms/step - loss: 0.0516 - accuracy: 0.9982 - val_loss: 0.0482 - val_accuracy: 0.9930\n",
            "Epoch 24/200\n",
            "125/125 [==============================] - 1s 5ms/step - loss: 0.0470 - accuracy: 0.9977 - val_loss: 0.0445 - val_accuracy: 0.9930\n",
            "Epoch 25/200\n",
            "125/125 [==============================] - 1s 4ms/step - loss: 0.0459 - accuracy: 0.9987 - val_loss: 0.0432 - val_accuracy: 0.9940\n",
            "Epoch 26/200\n",
            "125/125 [==============================] - 1s 5ms/step - loss: 0.0456 - accuracy: 0.9985 - val_loss: 0.0398 - val_accuracy: 0.9950\n",
            "Epoch 27/200\n",
            "125/125 [==============================] - 1s 5ms/step - loss: 0.0414 - accuracy: 0.9977 - val_loss: 0.0381 - val_accuracy: 0.9940\n",
            "Epoch 28/200\n",
            "125/125 [==============================] - 1s 5ms/step - loss: 0.0390 - accuracy: 0.9975 - val_loss: 0.0347 - val_accuracy: 0.9960\n",
            "Epoch 29/200\n",
            "125/125 [==============================] - 1s 5ms/step - loss: 0.0335 - accuracy: 0.9987 - val_loss: 0.0351 - val_accuracy: 0.9950\n",
            "Epoch 30/200\n",
            "125/125 [==============================] - 1s 5ms/step - loss: 0.0364 - accuracy: 0.9985 - val_loss: 0.0359 - val_accuracy: 0.9950\n",
            "Epoch 31/200\n",
            "125/125 [==============================] - 1s 5ms/step - loss: 0.0304 - accuracy: 0.9992 - val_loss: 0.0340 - val_accuracy: 0.9960\n",
            "Epoch 32/200\n",
            "125/125 [==============================] - 1s 5ms/step - loss: 0.0294 - accuracy: 0.9975 - val_loss: 0.0321 - val_accuracy: 0.9940\n",
            "Epoch 33/200\n",
            "125/125 [==============================] - 1s 5ms/step - loss: 0.0352 - accuracy: 0.9957 - val_loss: 0.0329 - val_accuracy: 0.9920\n",
            "Epoch 34/200\n",
            "125/125 [==============================] - 1s 5ms/step - loss: 0.0320 - accuracy: 0.9975 - val_loss: 0.0325 - val_accuracy: 0.9940\n",
            "Epoch 35/200\n",
            "125/125 [==============================] - 1s 5ms/step - loss: 0.0262 - accuracy: 0.9985 - val_loss: 0.0317 - val_accuracy: 0.9940\n",
            "Epoch 36/200\n",
            "125/125 [==============================] - 1s 5ms/step - loss: 0.0222 - accuracy: 0.9995 - val_loss: 0.0341 - val_accuracy: 0.9920\n",
            "Epoch 37/200\n",
            "125/125 [==============================] - 1s 5ms/step - loss: 0.0210 - accuracy: 0.9992 - val_loss: 0.0277 - val_accuracy: 0.9950\n",
            "Epoch 38/200\n",
            "125/125 [==============================] - 1s 5ms/step - loss: 0.0242 - accuracy: 0.9980 - val_loss: 0.0291 - val_accuracy: 0.9930\n",
            "Epoch 39/200\n",
            "125/125 [==============================] - 1s 5ms/step - loss: 0.0200 - accuracy: 0.9990 - val_loss: 0.0266 - val_accuracy: 0.9950\n",
            "Epoch 40/200\n",
            "125/125 [==============================] - 1s 5ms/step - loss: 0.0193 - accuracy: 0.9987 - val_loss: 0.0296 - val_accuracy: 0.9920\n",
            "Epoch 41/200\n",
            "125/125 [==============================] - 1s 5ms/step - loss: 0.0263 - accuracy: 0.9972 - val_loss: 0.0274 - val_accuracy: 0.9930\n",
            "Epoch 42/200\n",
            "125/125 [==============================] - 1s 5ms/step - loss: 0.0186 - accuracy: 0.9992 - val_loss: 0.0263 - val_accuracy: 0.9930\n",
            "Epoch 43/200\n",
            "125/125 [==============================] - 1s 5ms/step - loss: 0.0174 - accuracy: 0.9985 - val_loss: 0.0286 - val_accuracy: 0.9940\n",
            "Epoch 44/200\n",
            "125/125 [==============================] - 1s 4ms/step - loss: 0.0177 - accuracy: 0.9997 - val_loss: 0.0209 - val_accuracy: 0.9960\n",
            "Epoch 45/200\n",
            "125/125 [==============================] - 1s 5ms/step - loss: 0.0137 - accuracy: 0.9990 - val_loss: 0.0215 - val_accuracy: 0.9950\n",
            "Epoch 46/200\n",
            "125/125 [==============================] - 1s 5ms/step - loss: 0.0136 - accuracy: 0.9997 - val_loss: 0.0209 - val_accuracy: 0.9960\n",
            "Epoch 47/200\n",
            "125/125 [==============================] - 1s 5ms/step - loss: 0.0181 - accuracy: 0.9970 - val_loss: 0.0202 - val_accuracy: 0.9970\n",
            "Epoch 48/200\n",
            "125/125 [==============================] - 1s 5ms/step - loss: 0.0159 - accuracy: 0.9990 - val_loss: 0.0239 - val_accuracy: 0.9940\n",
            "Epoch 49/200\n",
            "125/125 [==============================] - 1s 5ms/step - loss: 0.0153 - accuracy: 0.9980 - val_loss: 0.0251 - val_accuracy: 0.9950\n",
            "Epoch 50/200\n",
            "125/125 [==============================] - 1s 5ms/step - loss: 0.0142 - accuracy: 0.9990 - val_loss: 0.0241 - val_accuracy: 0.9940\n",
            "Epoch 51/200\n",
            "125/125 [==============================] - 1s 5ms/step - loss: 0.0121 - accuracy: 0.9995 - val_loss: 0.0254 - val_accuracy: 0.9950\n",
            "Epoch 52/200\n",
            "125/125 [==============================] - 1s 5ms/step - loss: 0.0121 - accuracy: 0.9990 - val_loss: 0.0221 - val_accuracy: 0.9950\n",
            "Epoch 53/200\n",
            "125/125 [==============================] - 1s 5ms/step - loss: 0.0111 - accuracy: 0.9995 - val_loss: 0.0216 - val_accuracy: 0.9940\n",
            "Epoch 54/200\n",
            "125/125 [==============================] - 1s 5ms/step - loss: 0.0117 - accuracy: 0.9987 - val_loss: 0.0241 - val_accuracy: 0.9940\n",
            "Epoch 55/200\n",
            "125/125 [==============================] - 1s 5ms/step - loss: 0.0105 - accuracy: 0.9995 - val_loss: 0.0270 - val_accuracy: 0.9940\n",
            "Epoch 56/200\n",
            "125/125 [==============================] - 1s 5ms/step - loss: 0.0096 - accuracy: 0.9995 - val_loss: 0.0260 - val_accuracy: 0.9920\n",
            "Epoch 57/200\n",
            "125/125 [==============================] - 1s 5ms/step - loss: 0.0088 - accuracy: 0.9995 - val_loss: 0.0266 - val_accuracy: 0.9910\n",
            "Epoch 58/200\n",
            "125/125 [==============================] - 1s 5ms/step - loss: 0.0106 - accuracy: 0.9985 - val_loss: 0.0286 - val_accuracy: 0.9940\n",
            "Epoch 59/200\n",
            "125/125 [==============================] - 1s 5ms/step - loss: 0.0084 - accuracy: 0.9997 - val_loss: 0.0238 - val_accuracy: 0.9950\n",
            "Epoch 60/200\n",
            "125/125 [==============================] - 1s 5ms/step - loss: 0.0085 - accuracy: 0.9987 - val_loss: 0.0239 - val_accuracy: 0.9940\n",
            "Epoch 61/200\n",
            "125/125 [==============================] - 1s 5ms/step - loss: 0.0122 - accuracy: 0.9977 - val_loss: 0.0253 - val_accuracy: 0.9930\n",
            "Epoch 62/200\n",
            "125/125 [==============================] - 1s 5ms/step - loss: 0.0087 - accuracy: 0.9990 - val_loss: 0.0224 - val_accuracy: 0.9950\n",
            "Epoch 63/200\n",
            "125/125 [==============================] - 1s 5ms/step - loss: 0.0078 - accuracy: 0.9992 - val_loss: 0.0199 - val_accuracy: 0.9950\n",
            "Epoch 64/200\n",
            "125/125 [==============================] - 1s 5ms/step - loss: 0.0077 - accuracy: 0.9997 - val_loss: 0.0257 - val_accuracy: 0.9930\n",
            "Epoch 65/200\n",
            "125/125 [==============================] - 1s 5ms/step - loss: 0.0075 - accuracy: 0.9985 - val_loss: 0.0212 - val_accuracy: 0.9940\n",
            "Epoch 66/200\n",
            "125/125 [==============================] - 1s 5ms/step - loss: 0.0121 - accuracy: 0.9980 - val_loss: 0.0213 - val_accuracy: 0.9940\n",
            "Epoch 67/200\n",
            "125/125 [==============================] - 1s 5ms/step - loss: 0.0070 - accuracy: 0.9997 - val_loss: 0.0249 - val_accuracy: 0.9910\n",
            "Epoch 68/200\n",
            "125/125 [==============================] - 1s 5ms/step - loss: 0.0078 - accuracy: 0.9985 - val_loss: 0.0293 - val_accuracy: 0.9920\n",
            "Epoch 69/200\n",
            "125/125 [==============================] - 1s 5ms/step - loss: 0.0065 - accuracy: 0.9995 - val_loss: 0.0230 - val_accuracy: 0.9940\n",
            "Epoch 70/200\n",
            "125/125 [==============================] - 1s 5ms/step - loss: 0.0079 - accuracy: 0.9992 - val_loss: 0.0265 - val_accuracy: 0.9940\n",
            "Epoch 71/200\n",
            "125/125 [==============================] - 1s 5ms/step - loss: 0.0063 - accuracy: 0.9995 - val_loss: 0.0278 - val_accuracy: 0.9940\n",
            "Epoch 72/200\n",
            "125/125 [==============================] - 1s 5ms/step - loss: 0.0068 - accuracy: 0.9997 - val_loss: 0.0223 - val_accuracy: 0.9940\n",
            "Epoch 73/200\n",
            "125/125 [==============================] - 1s 5ms/step - loss: 0.0062 - accuracy: 0.9995 - val_loss: 0.0316 - val_accuracy: 0.9920\n",
            "Epoch 74/200\n",
            "125/125 [==============================] - 1s 5ms/step - loss: 0.0094 - accuracy: 0.9990 - val_loss: 0.0234 - val_accuracy: 0.9950\n",
            "Epoch 75/200\n",
            "125/125 [==============================] - 1s 5ms/step - loss: 0.0049 - accuracy: 0.9997 - val_loss: 0.0268 - val_accuracy: 0.9930\n",
            "Epoch 76/200\n",
            "125/125 [==============================] - 1s 5ms/step - loss: 0.0049 - accuracy: 0.9995 - val_loss: 0.0219 - val_accuracy: 0.9940\n",
            "Epoch 77/200\n",
            "125/125 [==============================] - 1s 5ms/step - loss: 0.0111 - accuracy: 0.9975 - val_loss: 0.0318 - val_accuracy: 0.9920\n",
            "Epoch 78/200\n",
            "125/125 [==============================] - 1s 4ms/step - loss: 0.0126 - accuracy: 0.9977 - val_loss: 0.0249 - val_accuracy: 0.9940\n",
            "Epoch 79/200\n",
            "125/125 [==============================] - 1s 5ms/step - loss: 0.0054 - accuracy: 0.9995 - val_loss: 0.0257 - val_accuracy: 0.9930\n",
            "Epoch 80/200\n",
            "125/125 [==============================] - 1s 5ms/step - loss: 0.0080 - accuracy: 0.9980 - val_loss: 0.0255 - val_accuracy: 0.9920\n",
            "Epoch 81/200\n",
            "125/125 [==============================] - 1s 5ms/step - loss: 0.0112 - accuracy: 0.9972 - val_loss: 0.0218 - val_accuracy: 0.9950\n",
            "Epoch 82/200\n",
            "125/125 [==============================] - 1s 5ms/step - loss: 0.0035 - accuracy: 1.0000 - val_loss: 0.0210 - val_accuracy: 0.9950\n",
            "Epoch 83/200\n",
            "125/125 [==============================] - 1s 5ms/step - loss: 0.0040 - accuracy: 0.9995 - val_loss: 0.0263 - val_accuracy: 0.9920\n",
            "Epoch 84/200\n",
            "125/125 [==============================] - 1s 5ms/step - loss: 0.0056 - accuracy: 0.9992 - val_loss: 0.0220 - val_accuracy: 0.9940\n",
            "Epoch 85/200\n",
            "125/125 [==============================] - 1s 5ms/step - loss: 0.0048 - accuracy: 0.9992 - val_loss: 0.0276 - val_accuracy: 0.9930\n",
            "Epoch 86/200\n",
            "125/125 [==============================] - 1s 5ms/step - loss: 0.0046 - accuracy: 0.9997 - val_loss: 0.0227 - val_accuracy: 0.9940\n",
            "Epoch 87/200\n",
            "125/125 [==============================] - 1s 5ms/step - loss: 0.0050 - accuracy: 0.9995 - val_loss: 0.0241 - val_accuracy: 0.9930\n",
            "Epoch 88/200\n",
            "125/125 [==============================] - 1s 5ms/step - loss: 0.0053 - accuracy: 0.9992 - val_loss: 0.0258 - val_accuracy: 0.9940\n",
            "Epoch 89/200\n",
            "125/125 [==============================] - 1s 5ms/step - loss: 0.0047 - accuracy: 0.9992 - val_loss: 0.0256 - val_accuracy: 0.9920\n",
            "Epoch 90/200\n",
            "125/125 [==============================] - 1s 5ms/step - loss: 0.0046 - accuracy: 0.9997 - val_loss: 0.0246 - val_accuracy: 0.9950\n",
            "Epoch 91/200\n",
            "125/125 [==============================] - 1s 4ms/step - loss: 0.0049 - accuracy: 0.9990 - val_loss: 0.0266 - val_accuracy: 0.9940\n",
            "Epoch 92/200\n",
            "125/125 [==============================] - 1s 4ms/step - loss: 0.0038 - accuracy: 0.9995 - val_loss: 0.0239 - val_accuracy: 0.9950\n",
            "Epoch 93/200\n",
            "125/125 [==============================] - 1s 5ms/step - loss: 0.0059 - accuracy: 0.9985 - val_loss: 0.0229 - val_accuracy: 0.9940\n",
            "Epoch 94/200\n",
            "125/125 [==============================] - 1s 5ms/step - loss: 0.0064 - accuracy: 0.9985 - val_loss: 0.0217 - val_accuracy: 0.9950\n",
            "Epoch 95/200\n",
            "125/125 [==============================] - 1s 5ms/step - loss: 0.0042 - accuracy: 0.9995 - val_loss: 0.0194 - val_accuracy: 0.9950\n",
            "Epoch 96/200\n",
            "125/125 [==============================] - 1s 5ms/step - loss: 0.0045 - accuracy: 0.9997 - val_loss: 0.0171 - val_accuracy: 0.9970\n",
            "Epoch 97/200\n",
            "125/125 [==============================] - 1s 5ms/step - loss: 0.0039 - accuracy: 0.9997 - val_loss: 0.0185 - val_accuracy: 0.9940\n",
            "Epoch 98/200\n",
            "125/125 [==============================] - 1s 5ms/step - loss: 0.0044 - accuracy: 0.9995 - val_loss: 0.0242 - val_accuracy: 0.9950\n",
            "Epoch 99/200\n",
            "125/125 [==============================] - 1s 5ms/step - loss: 0.0048 - accuracy: 0.9990 - val_loss: 0.0248 - val_accuracy: 0.9940\n",
            "Epoch 100/200\n",
            "125/125 [==============================] - 1s 5ms/step - loss: 0.0038 - accuracy: 0.9995 - val_loss: 0.0280 - val_accuracy: 0.9940\n",
            "Epoch 101/200\n",
            "125/125 [==============================] - 1s 5ms/step - loss: 0.0030 - accuracy: 0.9997 - val_loss: 0.0235 - val_accuracy: 0.9940\n",
            "Epoch 102/200\n",
            "125/125 [==============================] - 1s 5ms/step - loss: 0.0032 - accuracy: 0.9995 - val_loss: 0.0211 - val_accuracy: 0.9950\n",
            "Epoch 103/200\n",
            "125/125 [==============================] - 1s 5ms/step - loss: 0.0049 - accuracy: 0.9987 - val_loss: 0.0257 - val_accuracy: 0.9930\n",
            "Epoch 104/200\n",
            "125/125 [==============================] - 1s 5ms/step - loss: 0.0036 - accuracy: 0.9997 - val_loss: 0.0236 - val_accuracy: 0.9950\n",
            "Epoch 105/200\n",
            "125/125 [==============================] - 1s 5ms/step - loss: 0.0054 - accuracy: 0.9990 - val_loss: 0.0241 - val_accuracy: 0.9920\n",
            "Epoch 106/200\n",
            "125/125 [==============================] - 1s 5ms/step - loss: 0.0038 - accuracy: 0.9992 - val_loss: 0.0237 - val_accuracy: 0.9920\n",
            "Epoch 107/200\n",
            "125/125 [==============================] - 1s 5ms/step - loss: 0.0042 - accuracy: 0.9992 - val_loss: 0.0282 - val_accuracy: 0.9910\n",
            "Epoch 108/200\n",
            "125/125 [==============================] - 1s 5ms/step - loss: 0.0049 - accuracy: 0.9982 - val_loss: 0.0236 - val_accuracy: 0.9950\n",
            "Epoch 109/200\n",
            "125/125 [==============================] - 1s 5ms/step - loss: 0.0042 - accuracy: 0.9995 - val_loss: 0.0290 - val_accuracy: 0.9930\n",
            "Epoch 110/200\n",
            "125/125 [==============================] - 1s 5ms/step - loss: 0.0043 - accuracy: 0.9992 - val_loss: 0.0307 - val_accuracy: 0.9940\n",
            "Epoch 111/200\n",
            "125/125 [==============================] - 1s 5ms/step - loss: 0.0031 - accuracy: 0.9995 - val_loss: 0.0314 - val_accuracy: 0.9930\n",
            "Epoch 112/200\n",
            "125/125 [==============================] - 1s 5ms/step - loss: 0.0028 - accuracy: 0.9997 - val_loss: 0.0298 - val_accuracy: 0.9920\n",
            "Epoch 113/200\n",
            "125/125 [==============================] - 1s 5ms/step - loss: 0.0035 - accuracy: 0.9992 - val_loss: 0.0320 - val_accuracy: 0.9930\n",
            "Epoch 114/200\n",
            "125/125 [==============================] - 1s 4ms/step - loss: 0.0035 - accuracy: 0.9995 - val_loss: 0.0285 - val_accuracy: 0.9940\n",
            "Epoch 115/200\n",
            "125/125 [==============================] - 1s 5ms/step - loss: 0.0043 - accuracy: 0.9992 - val_loss: 0.0303 - val_accuracy: 0.9930\n",
            "Epoch 116/200\n",
            "125/125 [==============================] - 1s 5ms/step - loss: 0.0017 - accuracy: 1.0000 - val_loss: 0.0312 - val_accuracy: 0.9930\n",
            "Epoch 117/200\n",
            "125/125 [==============================] - 1s 5ms/step - loss: 0.0024 - accuracy: 0.9997 - val_loss: 0.0263 - val_accuracy: 0.9950\n",
            "Epoch 118/200\n",
            "125/125 [==============================] - 1s 5ms/step - loss: 0.0016 - accuracy: 1.0000 - val_loss: 0.0218 - val_accuracy: 0.9960\n",
            "Epoch 119/200\n",
            "125/125 [==============================] - 1s 5ms/step - loss: 0.0040 - accuracy: 0.9990 - val_loss: 0.0300 - val_accuracy: 0.9890\n",
            "Epoch 120/200\n",
            "125/125 [==============================] - 1s 5ms/step - loss: 0.0042 - accuracy: 0.9992 - val_loss: 0.0287 - val_accuracy: 0.9930\n",
            "Epoch 121/200\n",
            "125/125 [==============================] - 1s 5ms/step - loss: 0.0028 - accuracy: 1.0000 - val_loss: 0.0291 - val_accuracy: 0.9940\n",
            "Epoch 122/200\n",
            "125/125 [==============================] - 1s 5ms/step - loss: 0.0016 - accuracy: 1.0000 - val_loss: 0.0300 - val_accuracy: 0.9930\n",
            "Epoch 123/200\n",
            "125/125 [==============================] - 1s 5ms/step - loss: 0.0084 - accuracy: 0.9982 - val_loss: 0.0366 - val_accuracy: 0.9920\n",
            "Epoch 124/200\n",
            "125/125 [==============================] - 1s 5ms/step - loss: 0.0025 - accuracy: 1.0000 - val_loss: 0.0383 - val_accuracy: 0.9910\n",
            "Epoch 125/200\n",
            "125/125 [==============================] - 1s 5ms/step - loss: 0.0024 - accuracy: 1.0000 - val_loss: 0.0361 - val_accuracy: 0.9910\n",
            "Epoch 126/200\n",
            "125/125 [==============================] - 1s 5ms/step - loss: 0.0027 - accuracy: 0.9995 - val_loss: 0.0336 - val_accuracy: 0.9930\n",
            "Epoch 127/200\n",
            "125/125 [==============================] - 1s 5ms/step - loss: 0.0046 - accuracy: 0.9995 - val_loss: 0.0359 - val_accuracy: 0.9900\n",
            "Epoch 128/200\n",
            "125/125 [==============================] - 1s 5ms/step - loss: 0.0022 - accuracy: 0.9997 - val_loss: 0.0353 - val_accuracy: 0.9910\n",
            "Epoch 129/200\n",
            "125/125 [==============================] - 1s 5ms/step - loss: 0.0021 - accuracy: 0.9997 - val_loss: 0.0279 - val_accuracy: 0.9930\n",
            "Epoch 130/200\n",
            "125/125 [==============================] - 1s 5ms/step - loss: 0.0020 - accuracy: 0.9997 - val_loss: 0.0320 - val_accuracy: 0.9920\n",
            "Epoch 131/200\n",
            "125/125 [==============================] - 1s 5ms/step - loss: 0.0035 - accuracy: 0.9995 - val_loss: 0.0319 - val_accuracy: 0.9910\n",
            "Epoch 132/200\n",
            "125/125 [==============================] - 1s 5ms/step - loss: 0.0038 - accuracy: 0.9990 - val_loss: 0.0404 - val_accuracy: 0.9890\n",
            "Epoch 133/200\n",
            "125/125 [==============================] - 1s 5ms/step - loss: 0.0033 - accuracy: 0.9997 - val_loss: 0.0312 - val_accuracy: 0.9930\n",
            "Epoch 134/200\n",
            "125/125 [==============================] - 1s 5ms/step - loss: 0.0038 - accuracy: 0.9985 - val_loss: 0.0312 - val_accuracy: 0.9950\n",
            "Epoch 135/200\n",
            "125/125 [==============================] - 1s 7ms/step - loss: 0.0017 - accuracy: 1.0000 - val_loss: 0.0323 - val_accuracy: 0.9930\n",
            "Epoch 136/200\n",
            "125/125 [==============================] - 1s 8ms/step - loss: 0.0016 - accuracy: 1.0000 - val_loss: 0.0316 - val_accuracy: 0.9930\n",
            "Epoch 137/200\n",
            "125/125 [==============================] - 1s 9ms/step - loss: 0.0028 - accuracy: 0.9995 - val_loss: 0.0359 - val_accuracy: 0.9930\n",
            "Epoch 138/200\n",
            "125/125 [==============================] - 1s 7ms/step - loss: 0.0039 - accuracy: 0.9995 - val_loss: 0.0248 - val_accuracy: 0.9940\n",
            "Epoch 139/200\n",
            "125/125 [==============================] - 1s 11ms/step - loss: 0.0072 - accuracy: 0.9977 - val_loss: 0.0266 - val_accuracy: 0.9950\n",
            "Epoch 140/200\n",
            "125/125 [==============================] - 1s 5ms/step - loss: 0.0039 - accuracy: 0.9990 - val_loss: 0.0323 - val_accuracy: 0.9930\n",
            "Epoch 141/200\n",
            "125/125 [==============================] - 1s 5ms/step - loss: 0.0072 - accuracy: 0.9977 - val_loss: 0.0277 - val_accuracy: 0.9930\n",
            "Epoch 142/200\n",
            "125/125 [==============================] - 1s 5ms/step - loss: 0.0035 - accuracy: 0.9992 - val_loss: 0.0269 - val_accuracy: 0.9940\n",
            "Epoch 143/200\n",
            "125/125 [==============================] - 1s 5ms/step - loss: 0.0033 - accuracy: 0.9995 - val_loss: 0.0263 - val_accuracy: 0.9950\n",
            "Epoch 144/200\n",
            "125/125 [==============================] - 1s 5ms/step - loss: 0.0020 - accuracy: 0.9997 - val_loss: 0.0263 - val_accuracy: 0.9940\n",
            "Epoch 145/200\n",
            "125/125 [==============================] - 1s 5ms/step - loss: 0.0030 - accuracy: 0.9995 - val_loss: 0.0275 - val_accuracy: 0.9950\n",
            "Epoch 146/200\n",
            "125/125 [==============================] - 1s 5ms/step - loss: 0.0034 - accuracy: 0.9995 - val_loss: 0.0243 - val_accuracy: 0.9940\n",
            "Epoch 147/200\n",
            "125/125 [==============================] - 1s 5ms/step - loss: 0.0020 - accuracy: 1.0000 - val_loss: 0.0249 - val_accuracy: 0.9940\n",
            "Epoch 148/200\n",
            "125/125 [==============================] - 1s 5ms/step - loss: 0.0039 - accuracy: 0.9992 - val_loss: 0.0279 - val_accuracy: 0.9940\n",
            "Epoch 149/200\n",
            "125/125 [==============================] - 1s 5ms/step - loss: 0.0018 - accuracy: 0.9997 - val_loss: 0.0245 - val_accuracy: 0.9960\n",
            "Epoch 150/200\n",
            "125/125 [==============================] - 1s 5ms/step - loss: 0.0016 - accuracy: 0.9997 - val_loss: 0.0276 - val_accuracy: 0.9940\n",
            "Epoch 151/200\n",
            "125/125 [==============================] - 1s 5ms/step - loss: 0.0015 - accuracy: 0.9997 - val_loss: 0.0279 - val_accuracy: 0.9940\n",
            "Epoch 152/200\n",
            "125/125 [==============================] - 1s 5ms/step - loss: 9.6032e-04 - accuracy: 1.0000 - val_loss: 0.0266 - val_accuracy: 0.9940\n",
            "Epoch 153/200\n",
            "125/125 [==============================] - 1s 5ms/step - loss: 0.0023 - accuracy: 0.9997 - val_loss: 0.0252 - val_accuracy: 0.9940\n",
            "Epoch 154/200\n",
            "125/125 [==============================] - 1s 5ms/step - loss: 0.0049 - accuracy: 0.9985 - val_loss: 0.0338 - val_accuracy: 0.9900\n",
            "Epoch 155/200\n",
            "125/125 [==============================] - 1s 5ms/step - loss: 0.0036 - accuracy: 0.9992 - val_loss: 0.0275 - val_accuracy: 0.9950\n",
            "Epoch 156/200\n",
            "125/125 [==============================] - 1s 5ms/step - loss: 0.0013 - accuracy: 1.0000 - val_loss: 0.0285 - val_accuracy: 0.9930\n",
            "Epoch 157/200\n",
            "125/125 [==============================] - 1s 5ms/step - loss: 0.0023 - accuracy: 0.9992 - val_loss: 0.0279 - val_accuracy: 0.9930\n",
            "Epoch 158/200\n",
            "125/125 [==============================] - 1s 5ms/step - loss: 0.0035 - accuracy: 0.9995 - val_loss: 0.0299 - val_accuracy: 0.9950\n",
            "Epoch 159/200\n",
            "125/125 [==============================] - 1s 5ms/step - loss: 0.0024 - accuracy: 0.9992 - val_loss: 0.0305 - val_accuracy: 0.9920\n",
            "Epoch 160/200\n",
            "125/125 [==============================] - 1s 5ms/step - loss: 0.0022 - accuracy: 0.9992 - val_loss: 0.0240 - val_accuracy: 0.9930\n",
            "Epoch 161/200\n",
            "125/125 [==============================] - 1s 5ms/step - loss: 0.0023 - accuracy: 0.9995 - val_loss: 0.0229 - val_accuracy: 0.9950\n",
            "Epoch 162/200\n",
            "125/125 [==============================] - 1s 5ms/step - loss: 0.0017 - accuracy: 1.0000 - val_loss: 0.0254 - val_accuracy: 0.9950\n",
            "Epoch 163/200\n",
            "125/125 [==============================] - 1s 5ms/step - loss: 0.0035 - accuracy: 0.9995 - val_loss: 0.0286 - val_accuracy: 0.9940\n",
            "Epoch 164/200\n",
            "125/125 [==============================] - 1s 5ms/step - loss: 0.0016 - accuracy: 0.9997 - val_loss: 0.0306 - val_accuracy: 0.9940\n",
            "Epoch 165/200\n",
            "125/125 [==============================] - 1s 5ms/step - loss: 9.9615e-04 - accuracy: 1.0000 - val_loss: 0.0290 - val_accuracy: 0.9910\n",
            "Epoch 166/200\n",
            "125/125 [==============================] - 1s 5ms/step - loss: 0.0012 - accuracy: 1.0000 - val_loss: 0.0320 - val_accuracy: 0.9910\n",
            "Epoch 167/200\n",
            "125/125 [==============================] - 1s 5ms/step - loss: 0.0030 - accuracy: 0.9995 - val_loss: 0.0401 - val_accuracy: 0.9910\n",
            "Epoch 168/200\n",
            "125/125 [==============================] - 1s 5ms/step - loss: 0.0055 - accuracy: 0.9992 - val_loss: 0.0378 - val_accuracy: 0.9910\n",
            "Epoch 169/200\n",
            "125/125 [==============================] - 1s 5ms/step - loss: 0.0020 - accuracy: 1.0000 - val_loss: 0.0311 - val_accuracy: 0.9920\n",
            "Epoch 170/200\n",
            "125/125 [==============================] - 1s 5ms/step - loss: 0.0012 - accuracy: 1.0000 - val_loss: 0.0297 - val_accuracy: 0.9920\n",
            "Epoch 171/200\n",
            "125/125 [==============================] - 1s 5ms/step - loss: 0.0033 - accuracy: 0.9992 - val_loss: 0.0253 - val_accuracy: 0.9930\n",
            "Epoch 172/200\n",
            "125/125 [==============================] - 1s 5ms/step - loss: 0.0038 - accuracy: 0.9990 - val_loss: 0.0302 - val_accuracy: 0.9930\n",
            "Epoch 173/200\n",
            "125/125 [==============================] - 1s 5ms/step - loss: 0.0045 - accuracy: 0.9985 - val_loss: 0.0289 - val_accuracy: 0.9960\n",
            "Epoch 174/200\n",
            "125/125 [==============================] - 1s 5ms/step - loss: 0.0021 - accuracy: 0.9997 - val_loss: 0.0280 - val_accuracy: 0.9960\n",
            "Epoch 175/200\n",
            "125/125 [==============================] - 1s 5ms/step - loss: 0.0033 - accuracy: 0.9990 - val_loss: 0.0221 - val_accuracy: 0.9950\n",
            "Epoch 176/200\n",
            "125/125 [==============================] - 1s 5ms/step - loss: 0.0014 - accuracy: 1.0000 - val_loss: 0.0220 - val_accuracy: 0.9960\n",
            "Epoch 177/200\n",
            "125/125 [==============================] - 1s 5ms/step - loss: 0.0028 - accuracy: 0.9992 - val_loss: 0.0229 - val_accuracy: 0.9950\n",
            "Epoch 178/200\n",
            "125/125 [==============================] - 1s 5ms/step - loss: 0.0013 - accuracy: 1.0000 - val_loss: 0.0255 - val_accuracy: 0.9930\n",
            "Epoch 179/200\n",
            "125/125 [==============================] - 1s 5ms/step - loss: 0.0016 - accuracy: 0.9995 - val_loss: 0.0247 - val_accuracy: 0.9960\n",
            "Epoch 180/200\n",
            "125/125 [==============================] - 1s 5ms/step - loss: 0.0019 - accuracy: 0.9995 - val_loss: 0.0168 - val_accuracy: 0.9980\n",
            "Epoch 181/200\n",
            "125/125 [==============================] - 1s 5ms/step - loss: 0.0056 - accuracy: 0.9982 - val_loss: 0.0296 - val_accuracy: 0.9940\n",
            "Epoch 182/200\n",
            "125/125 [==============================] - 1s 5ms/step - loss: 0.0036 - accuracy: 0.9990 - val_loss: 0.0227 - val_accuracy: 0.9950\n",
            "Epoch 183/200\n",
            "125/125 [==============================] - 1s 5ms/step - loss: 0.0015 - accuracy: 0.9997 - val_loss: 0.0229 - val_accuracy: 0.9960\n",
            "Epoch 184/200\n",
            "125/125 [==============================] - 1s 5ms/step - loss: 0.0014 - accuracy: 0.9997 - val_loss: 0.0241 - val_accuracy: 0.9960\n",
            "Epoch 185/200\n",
            "125/125 [==============================] - 1s 5ms/step - loss: 0.0015 - accuracy: 1.0000 - val_loss: 0.0286 - val_accuracy: 0.9940\n",
            "Epoch 186/200\n",
            "125/125 [==============================] - 1s 5ms/step - loss: 0.0014 - accuracy: 1.0000 - val_loss: 0.0243 - val_accuracy: 0.9950\n",
            "Epoch 187/200\n",
            "125/125 [==============================] - 1s 5ms/step - loss: 0.0016 - accuracy: 0.9997 - val_loss: 0.0209 - val_accuracy: 0.9940\n",
            "Epoch 188/200\n",
            "125/125 [==============================] - 1s 5ms/step - loss: 0.0027 - accuracy: 0.9992 - val_loss: 0.0238 - val_accuracy: 0.9960\n",
            "Epoch 189/200\n",
            "125/125 [==============================] - 1s 5ms/step - loss: 0.0023 - accuracy: 0.9995 - val_loss: 0.0198 - val_accuracy: 0.9960\n",
            "Epoch 190/200\n",
            "125/125 [==============================] - 1s 5ms/step - loss: 0.0017 - accuracy: 0.9995 - val_loss: 0.0216 - val_accuracy: 0.9950\n",
            "Epoch 191/200\n",
            "125/125 [==============================] - 1s 5ms/step - loss: 0.0035 - accuracy: 0.9987 - val_loss: 0.0213 - val_accuracy: 0.9960\n",
            "Epoch 192/200\n",
            "125/125 [==============================] - 1s 5ms/step - loss: 0.0023 - accuracy: 0.9992 - val_loss: 0.0213 - val_accuracy: 0.9940\n",
            "Epoch 193/200\n",
            "125/125 [==============================] - 1s 5ms/step - loss: 0.0013 - accuracy: 1.0000 - val_loss: 0.0188 - val_accuracy: 0.9970\n",
            "Epoch 194/200\n",
            "125/125 [==============================] - 1s 5ms/step - loss: 0.0018 - accuracy: 0.9995 - val_loss: 0.0202 - val_accuracy: 0.9960\n",
            "Epoch 195/200\n",
            "125/125 [==============================] - 1s 5ms/step - loss: 0.0034 - accuracy: 0.9992 - val_loss: 0.0421 - val_accuracy: 0.9880\n",
            "Epoch 196/200\n",
            "125/125 [==============================] - 1s 5ms/step - loss: 0.0034 - accuracy: 0.9992 - val_loss: 0.0168 - val_accuracy: 0.9970\n",
            "Epoch 197/200\n",
            "125/125 [==============================] - 1s 5ms/step - loss: 0.0027 - accuracy: 0.9995 - val_loss: 0.0154 - val_accuracy: 0.9970\n",
            "Epoch 198/200\n",
            "125/125 [==============================] - 1s 5ms/step - loss: 0.0016 - accuracy: 0.9997 - val_loss: 0.0174 - val_accuracy: 0.9960\n",
            "Epoch 199/200\n",
            "125/125 [==============================] - 1s 5ms/step - loss: 0.0015 - accuracy: 0.9995 - val_loss: 0.0239 - val_accuracy: 0.9960\n",
            "Epoch 200/200\n",
            "125/125 [==============================] - 1s 5ms/step - loss: 7.9103e-04 - accuracy: 1.0000 - val_loss: 0.0201 - val_accuracy: 0.9950\n"
          ]
        }
      ]
    },
    {
      "cell_type": "markdown",
      "source": [
        "Plotting loss for each epoch"
      ],
      "metadata": {
        "id": "CnqrkJuWc5rq"
      }
    },
    {
      "cell_type": "code",
      "source": [
        "plt.rcParams[\"figure.figsize\"] = (15,10)\n",
        "\n",
        "# graph the loss, the model above is configure to use \"mean squared error\" as the loss function\n",
        "train_loss = history.history['loss']\n",
        "val_loss = history.history['val_loss']\n",
        "epochs = range(1, len(train_loss) + 1)\n",
        "plt.plot(epochs, train_loss, 'g', label='Training loss')\n",
        "plt.plot(epochs, val_loss, 'b', label='Validation loss')\n",
        "plt.title('Training and validation loss')\n",
        "plt.xlabel('Epochs')\n",
        "plt.ylabel('Loss')\n",
        "plt.legend()\n",
        "plt.show()"
      ],
      "metadata": {
        "colab": {
          "base_uri": "https://localhost:8080/",
          "height": 621
        },
        "id": "22LVBY9oeVH9",
        "outputId": "e43fed12-515a-4900-90aa-a25f1cadc7e4"
      },
      "execution_count": null,
      "outputs": [
        {
          "output_type": "display_data",
          "data": {
            "image/png": "[encoded data removed]",
            "text/plain": [
              "<Figure size 1080x720 with 1 Axes>"
            ]
          },
          "metadata": {
            "needs_background": "light"
          }
        }
      ]
    },
    {
      "cell_type": "markdown",
      "source": [
        "Plotting accuracy for each epoch"
      ],
      "metadata": {
        "id": "_VdZ2RzVdqod"
      }
    },
    {
      "cell_type": "code",
      "source": [
        "plt.rcParams[\"figure.figsize\"] = (15,10)\n",
        "\n",
        "# graph the loss, the model above is configure to use \"mean squared error\" as the loss function\n",
        "train_acc = history.history['accuracy']\n",
        "val_acc = history.history['val_accuracy']\n",
        "epochs = range(1, len(train_loss) + 1)\n",
        "plt.plot(epochs, train_acc, 'g', label='Training Accuracy')\n",
        "plt.plot(epochs, val_acc, 'b', label='Validation Accuracy')\n",
        "plt.title('Training and validation Accuracy')\n",
        "plt.xlabel('Epochs')\n",
        "plt.ylabel('Accuracy')\n",
        "plt.legend()\n",
        "plt.show()"
      ],
      "metadata": {
        "colab": {
          "base_uri": "https://localhost:8080/",
          "height": 621
        },
        "id": "q5S3-IJmdO4j",
        "outputId": "2066366a-3375-45b5-c2df-f5916ec96f4c"
      },
      "execution_count": null,
      "outputs": [
        {
          "output_type": "display_data",
          "data": {
            "image/png": "[encoded data removed]",
            "text/plain": [
              "<Figure size 1080x720 with 1 Axes>"
            ]
          },
          "metadata": {
            "needs_background": "light"
          }
        }
      ]
    },
    {
      "cell_type": "code",
      "source": [
        "predictions = np.argmax(model.predict(x_test),axis = 1)\n",
        "predictions = predictions.astype(int)\n",
        "accuracy = np.mean(predictions == y_test)\n",
        "precision = precision_score(y_test,predictions,average = 'weighted')\n",
        "recall = recall_score(y_test,predictions,average = 'weighted')\n",
        "f1 = f1_score(y_test,predictions,average = 'weighted')\n",
        "conf_mat = confusion_matrix(y_test,predictions)\n",
        "conf_mat = pd.DataFrame(conf_mat)\n",
        "conf_mat.columns = activities\n",
        "conf_mat.index = activities\n",
        "print('accuracy:', accuracy)\n",
        "print('Precision: ', precision)\n",
        "print('Recall: ', recall)\n",
        "print('f1_score: ', f1)\n",
        "print('Confusion Matrix: \\n', conf_mat)"
      ],
      "metadata": {
        "colab": {
          "base_uri": "https://localhost:8080/"
        },
        "id": "dmQG9CWTd4x6",
        "outputId": "9fc2cebb-4fe9-4128-9011-9bd10b07e583"
      },
      "execution_count": null,
      "outputs": [
        {
          "output_type": "stream",
          "name": "stdout",
          "text": [
            "accuracy: 0.9959839357429718\n",
            "Precision:  0.9960180553078459\n",
            "Recall:  0.9959839357429718\n",
            "f1_score:  0.9959825495784982\n",
            "Confusion Matrix: \n",
            "             asc_data  des_data  dance_data  jump_data  sit_data  stand_data  \\\n",
            "asc_data         181         0           0          0         0           0   \n",
            "des_data           0       187           0          0         0           0   \n",
            "dance_data         1         0         183          0         0           0   \n",
            "jump_data          0         3           0        163         0           0   \n",
            "sit_data           0         0           0          0       177           0   \n",
            "stand_data         0         0           0          0         0         165   \n",
            "walk_data          0         0           0          0         0           0   \n",
            "\n",
            "            walk_data  \n",
            "asc_data            0  \n",
            "des_data            1  \n",
            "dance_data          0  \n",
            "jump_data           0  \n",
            "sit_data            0  \n",
            "stand_data          0  \n",
            "walk_data         184  \n"
          ]
        }
      ]
    },
    {
      "cell_type": "code",
      "source": [
        "#code to convert deployable model - code is referred from IMU TinyML mheath note book used in class discussions\n",
        "converter = tf.lite.TFLiteConverter.from_keras_model(model)\n",
        "tflite_model = converter.convert()\n",
        "\n",
        "# Save the model to disk\n",
        "open(\"gesture_model.tflite\", \"wb\").write(tflite_model)\n",
        "\n",
        "\n",
        "# Convert the model to the TensorFlow Lite format with quantization\n",
        "converter = tf.lite.TFLiteConverter.from_keras_model(model)\n",
        "converter.optimizations = [tf.lite.Optimize.DEFAULT]\n",
        "# Define a generator function that provides our test data's x values\n",
        "# as a representative dataset, and tell the converter to use it\n",
        "def representative_dataset_generator():\n",
        "    for value in x_test:\n",
        "        yield [np.array(value, dtype=np.float32, ndmin=2)]\n",
        "converter.representative_dataset = representative_dataset_generator\n",
        "# Convert the model\n",
        "quant_model = converter.convert()\n",
        "open(\"quantized.tflite\", \"wb\").write(quant_model)\n",
        "\n",
        "\n",
        "import os\n",
        "basic_model_size = os.path.getsize(\"gesture_model.tflite\")\n",
        "print(\"Model is %d bytes\" % basic_model_size)\n",
        "quantized_model_size = os.path.getsize(\"quantized.tflite\")\n",
        "print(\"Model is %d bytes\" % quantized_model_size)"
      ],
      "metadata": {
        "id": "8LMG9o9qfyYA",
        "colab": {
          "base_uri": "https://localhost:8080/"
        },
        "outputId": "b5fffbc9-cd78-489d-d2a9-c8e3f58a96f7"
      },
      "execution_count": null,
      "outputs": [
        {
          "output_type": "stream",
          "name": "stdout",
          "text": [
            "INFO:tensorflow:Assets written to: /tmp/tmpaxt6u432/assets\n"
          ]
        },
        {
          "output_type": "stream",
          "name": "stderr",
          "text": [
            "WARNING:absl:Buffer deduplication procedure will be skipped when flatbuffer library is not properly loaded\n"
          ]
        },
        {
          "output_type": "stream",
          "name": "stdout",
          "text": [
            "INFO:tensorflow:Assets written to: /tmp/tmpcyqnxo2m/assets\n"
          ]
        },
        {
          "output_type": "stream",
          "name": "stderr",
          "text": [
            "INFO:tensorflow:Assets written to: /tmp/tmpcyqnxo2m/assets\n",
            "/usr/local/lib/python3.7/dist-packages/tensorflow/lite/python/convert.py:746: UserWarning: Statistics for quantized inputs were expected, but not specified; continuing anyway.\n",
            "  warnings.warn(\"Statistics for quantized inputs were expected, but not \"\n",
            "WARNING:absl:Buffer deduplication procedure will be skipped when flatbuffer library is not properly loaded\n"
          ]
        },
        {
          "output_type": "stream",
          "name": "stdout",
          "text": [
            "Model is 280228 bytes\n",
            "Model is 73424 bytes\n"
          ]
        }
      ]
    },
    {
      "cell_type": "code",
      "source": [
        "!apt-get install xxd"
      ],
      "metadata": {
        "colab": {
          "base_uri": "https://localhost:8080/"
        },
        "id": "jptedBwPODF4",
        "outputId": "fc9a9a90-f4c5-4b5f-f422-bbf83cb2cebd"
      },
      "execution_count": null,
      "outputs": [
        {
          "output_type": "stream",
          "name": "stdout",
          "text": [
            "Reading package lists... Done\n",
            "Building dependency tree       \n",
            "Reading state information... Done\n",
            "The following package was automatically installed and is no longer required:\n",
            "  libnvidia-common-470\n",
            "Use 'apt autoremove' to remove it.\n",
            "The following NEW packages will be installed:\n",
            "  xxd\n",
            "0 upgraded, 1 newly installed, 0 to remove and 39 not upgraded.\n",
            "Need to get 49.9 kB of archives.\n",
            "After this operation, 201 kB of additional disk space will be used.\n",
            "Get:1 http://archive.ubuntu.com/ubuntu bionic-updates/main amd64 xxd amd64 2:8.0.1453-1ubuntu1.8 [49.9 kB]\n",
            "Fetched 49.9 kB in 0s (113 kB/s)\n",
            "Selecting previously unselected package xxd.\n",
            "(Reading database ... 155320 files and directories currently installed.)\n",
            "Preparing to unpack .../xxd_2%3a8.0.1453-1ubuntu1.8_amd64.deb ...\n",
            "Unpacking xxd (2:8.0.1453-1ubuntu1.8) ...\n",
            "Setting up xxd (2:8.0.1453-1ubuntu1.8) ...\n",
            "Processing triggers for man-db (2.8.3-2ubuntu0.1) ...\n"
          ]
        }
      ]
    },
    {
      "cell_type": "code",
      "source": [
        "!echo \"const unsigned char model[] = {\" >model.h\n",
        "!cat gesture_model.tflite | xxd -i      >> model.h\n",
        "!echo \"};\"                              >> model.h\n",
        "\n",
        "import os\n",
        "model_h_size = os.path.getsize(\"model.h\")\n",
        "print(f\"Header file, model.h, is {model_h_size:,} bytes.\")"
      ],
      "metadata": {
        "colab": {
          "base_uri": "https://localhost:8080/"
        },
        "id": "xUTpjkn4OFnl",
        "outputId": "43986027-e443-45da-b33b-392643b0c54a"
      },
      "execution_count": null,
      "outputs": [
        {
          "output_type": "stream",
          "name": "stdout",
          "text": [
            "Header file, model.h, is 1,728,108 bytes.\n"
          ]
        }
      ]
    },
    {
      "cell_type": "code",
      "source": [
        "!echo \"const unsigned char model[] = {\" >model1.h\n",
        "!cat quantized.tflite | xxd -i      >> model1.h\n",
        "!echo \"};\"                              >> model1.h\n",
        "\n",
        "import os\n",
        "model_h_size = os.path.getsize(\"model1.h\")\n",
        "print(f\"Header file, model1.h, is {model_h_size:,} bytes.\")\n",
        "print(\"\\nOpen the side panel (refresh if needed). Double click model.h to download the file.\")"
      ],
      "metadata": {
        "colab": {
          "base_uri": "https://localhost:8080/"
        },
        "id": "IU1Uu3nIOIVR",
        "outputId": "3ef8863c-eb2e-4857-856a-52ff4255a83c"
      },
      "execution_count": null,
      "outputs": [
        {
          "output_type": "stream",
          "name": "stdout",
          "text": [
            "Header file, model1.h, is 452,816 bytes.\n",
            "\n",
            "Open the side panel (refresh if needed). Double click model.h to download the file.\n"
          ]
        }
      ]
    }
  ]
}